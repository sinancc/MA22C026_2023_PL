{
  "nbformat": 4,
  "nbformat_minor": 0,
  "metadata": {
    "colab": {
      "provenance": []
    },
    "kernelspec": {
      "name": "python3",
      "display_name": "Python 3"
    },
    "language_info": {
      "name": "python"
    }
  },
  "cells": [
    {
      "cell_type": "code",
      "execution_count": 6,
      "metadata": {
        "colab": {
          "base_uri": "https://localhost:8080/"
        },
        "id": "-MZbb42tcUOv",
        "outputId": "072c261a-7618-44f7-d2ae-bfba173b8b36"
      },
      "outputs": [
        {
          "output_type": "stream",
          "name": "stdout",
          "text": [
            "F C\n",
            "32.0 0\n",
            "50.0 10\n",
            "68.0 20\n",
            "86.0 30\n",
            "104.0 40\n",
            "122.0 50\n",
            "140.0 60\n",
            "158.0 70\n",
            "176.0 80\n",
            "194.0 90\n",
            "212.0 100\n",
            "230.0 110\n",
            "248.0 120\n",
            "266.0 130\n",
            "284.0 140\n",
            "302.0 150\n",
            "320.0 160\n",
            "338.0 170\n",
            "356.0 180\n",
            "374.0 190\n",
            "392.0 200\n",
            "410.0 210\n",
            "428.0 220\n",
            "446.0 230\n",
            "464.0 240\n",
            "482.0 250\n"
          ]
        }
      ],
      "source": [
        "print('F C')\n",
        "C = 0 #initially celcius =0\n",
        "while C <= 250: #we are taking only till 250 degrees\n",
        "  F = 9 * C / 5 + 32 # conversion formula for celcius to farhenheit\n",
        "  print(F, C)\n",
        "  C += 10 #we increase by 10 in each step"
      ]
    },
    {
      "cell_type": "code",
      "source": [
        "print(' F C')\n",
        "C = 0\n",
        "while C <= 250:\n",
        "  F = 9 * C / 5 + 32\n",
        "  print('%4.0f %4.0f' % (F, C)) # formatting output with 4 field width and with 0 decimals\n",
        "  C += 10"
      ],
      "metadata": {
        "colab": {
          "base_uri": "https://localhost:8080/"
        },
        "id": "-6sKLJmEciGg",
        "outputId": "8b866c32-f9a6-48fa-fd46-4e2efadeb53f"
      },
      "execution_count": 7,
      "outputs": [
        {
          "output_type": "stream",
          "name": "stdout",
          "text": [
            " F C\n",
            "  32    0\n",
            "  50   10\n",
            "  68   20\n",
            "  86   30\n",
            " 104   40\n",
            " 122   50\n",
            " 140   60\n",
            " 158   70\n",
            " 176   80\n",
            " 194   90\n",
            " 212  100\n",
            " 230  110\n",
            " 248  120\n",
            " 266  130\n",
            " 284  140\n",
            " 302  150\n",
            " 320  160\n",
            " 338  170\n",
            " 356  180\n",
            " 374  190\n",
            " 392  200\n",
            " 410  210\n",
            " 428  220\n",
            " 446  230\n",
            " 464  240\n",
            " 482  250\n"
          ]
        }
      ]
    },
    {
      "cell_type": "code",
      "source": [
        "print(' F C')\n",
        "for C in range(0, 250, 10): # using for lop for a set with set having multiples of 10 from 0 to 250\n",
        "  F = 9 * C / 5 + 32\n",
        "  print('%4.0f %4.0f' % (F, C))"
      ],
      "metadata": {
        "colab": {
          "base_uri": "https://localhost:8080/"
        },
        "id": "aPhQ1rsBc4qL",
        "outputId": "40e88950-8a1b-40df-ff5f-2f74d6d7fe84"
      },
      "execution_count": 8,
      "outputs": [
        {
          "output_type": "stream",
          "name": "stdout",
          "text": [
            " F C\n",
            "  32    0\n",
            "  50   10\n",
            "  68   20\n",
            "  86   30\n",
            " 104   40\n",
            " 122   50\n",
            " 140   60\n",
            " 158   70\n",
            " 176   80\n",
            " 194   90\n",
            " 212  100\n",
            " 230  110\n",
            " 248  120\n",
            " 266  130\n",
            " 284  140\n",
            " 302  150\n",
            " 320  160\n",
            " 338  170\n",
            " 356  180\n",
            " 374  190\n",
            " 392  200\n",
            " 410  210\n",
            " 428  220\n",
            " 446  230\n",
            " 464  240\n"
          ]
        }
      ]
    },
    {
      "cell_type": "code",
      "source": [
        "print(' F C')\n",
        "for C in range(-50, 50, 5):\n",
        "  F = 9 * C / 5 + 32\n",
        "  print('%4.0f %4.0f' % (F, C))"
      ],
      "metadata": {
        "colab": {
          "base_uri": "https://localhost:8080/"
        },
        "id": "3RGZkcTvdB2K",
        "outputId": "e3bbb5be-3165-4f53-9780-ffc779c4e20f"
      },
      "execution_count": 9,
      "outputs": [
        {
          "output_type": "stream",
          "name": "stdout",
          "text": [
            " F C\n",
            " -58  -50\n",
            " -49  -45\n",
            " -40  -40\n",
            " -31  -35\n",
            " -22  -30\n",
            " -13  -25\n",
            "  -4  -20\n",
            "   5  -15\n",
            "  14  -10\n",
            "  23   -5\n",
            "  32    0\n",
            "  41    5\n",
            "  50   10\n",
            "  59   15\n",
            "  68   20\n",
            "  77   25\n",
            "  86   30\n",
            "  95   35\n",
            " 104   40\n",
            " 113   45\n"
          ]
        }
      ]
    },
    {
      "cell_type": "code",
      "source": [
        "Cs = [0, 10] # create list using []\n",
        "Cs.append(20) # modify by appending an entry\n",
        "Cs"
      ],
      "metadata": {
        "colab": {
          "base_uri": "https://localhost:8080/"
        },
        "id": "qyUY8qs4dI1N",
        "outputId": "5b30366f-7241-4310-8ec3-e31dc4207892"
      },
      "execution_count": 10,
      "outputs": [
        {
          "output_type": "execute_result",
          "data": {
            "text/plain": [
              "[0, 10, 20]"
            ]
          },
          "metadata": {},
          "execution_count": 10
        }
      ]
    },
    {
      "cell_type": "code",
      "source": [
        "Cs = (0, 10) # create a tuple using ()"
      ],
      "metadata": {
        "id": "rVaPUwKcdSny"
      },
      "execution_count": 11,
      "outputs": []
    },
    {
      "cell_type": "code",
      "source": [
        "Cs = [] # empty list\n",
        "Fs = []\n",
        "for C in range(0, 250, 25):\n",
        "  Cs.append(C) # appending celcius vallues to empty list Cs\n",
        "  Fs.append(9 * C / 5 + 32) # appending corresponding farhenheit value to another list named Fs"
      ],
      "metadata": {
        "id": "RQezDcUfdViG"
      },
      "execution_count": 12,
      "outputs": []
    },
    {
      "cell_type": "code",
      "source": [
        "print(Cs) #printing celcius array"
      ],
      "metadata": {
        "colab": {
          "base_uri": "https://localhost:8080/"
        },
        "id": "PUQsU_RKdcN9",
        "outputId": "cd56b6bb-57b6-4a84-d9ef-223279409928"
      },
      "execution_count": 13,
      "outputs": [
        {
          "output_type": "stream",
          "name": "stdout",
          "text": [
            "[0, 25, 50, 75, 100, 125, 150, 175, 200, 225]\n"
          ]
        }
      ]
    },
    {
      "cell_type": "code",
      "source": [
        "print(Fs) # Printing farhenheit array"
      ],
      "metadata": {
        "colab": {
          "base_uri": "https://localhost:8080/"
        },
        "id": "WVEo3WGRdelE",
        "outputId": "59b96686-a79e-4fde-d86e-e8ae7d9c88b2"
      },
      "execution_count": 14,
      "outputs": [
        {
          "output_type": "stream",
          "name": "stdout",
          "text": [
            "[32.0, 77.0, 122.0, 167.0, 212.0, 257.0, 302.0, 347.0, 392.0, 437.0]\n"
          ]
        }
      ]
    },
    {
      "cell_type": "code",
      "source": [
        "print(' F C')\n",
        "for C, F in zip(Cs, Fs): #zip allows to traverse two lists simultaneously\n",
        "  print('%4.0f %4.0f' % (F, C))"
      ],
      "metadata": {
        "colab": {
          "base_uri": "https://localhost:8080/"
        },
        "id": "aVln5jAzdgsy",
        "outputId": "b26ba3e6-5143-4d4a-a13c-1524bfeb2931"
      },
      "execution_count": 15,
      "outputs": [
        {
          "output_type": "stream",
          "name": "stdout",
          "text": [
            " F C\n",
            "  32    0\n",
            "  77   25\n",
            " 122   50\n",
            " 167   75\n",
            " 212  100\n",
            " 257  125\n",
            " 302  150\n",
            " 347  175\n",
            " 392  200\n",
            " 437  225\n"
          ]
        }
      ]
    },
    {
      "cell_type": "code",
      "source": [
        "Fs = [9 * C / 5 + 32 for C in Cs] # we can do operations on elememts of a list if needed"
      ],
      "metadata": {
        "id": "u-rQr-Zzdma8"
      },
      "execution_count": 16,
      "outputs": []
    },
    {
      "cell_type": "code",
      "source": [
        "Fs"
      ],
      "metadata": {
        "colab": {
          "base_uri": "https://localhost:8080/"
        },
        "id": "r4hMTUjPdprk",
        "outputId": "7a73931c-fd89-4311-a1be-85f8247e207c"
      },
      "execution_count": 17,
      "outputs": [
        {
          "output_type": "execute_result",
          "data": {
            "text/plain": [
              "[32.0, 77.0, 122.0, 167.0, 212.0, 257.0, 302.0, 347.0, 392.0, 437.0]"
            ]
          },
          "metadata": {},
          "execution_count": 17
        }
      ]
    }
  ]
}