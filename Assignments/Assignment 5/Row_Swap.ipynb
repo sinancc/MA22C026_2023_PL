{
  "nbformat": 4,
  "nbformat_minor": 0,
  "metadata": {
    "colab": {
      "provenance": [],
      "authorship_tag": "ABX9TyNutldhnDDHO79xDDS5Ad3s",
      "include_colab_link": true
    },
    "kernelspec": {
      "name": "python3",
      "display_name": "Python 3"
    },
    "language_info": {
      "name": "python"
    }
  },
  "cells": [
    {
      "cell_type": "markdown",
      "metadata": {
        "id": "view-in-github",
        "colab_type": "text"
      },
      "source": [
        "<a href=\"https://colab.research.google.com/github/sinancc/MA22C026_2023_PL/blob/main/Assignments/Assignment%205/Row_Swap.ipynb\" target=\"_parent\"><img src=\"https://colab.research.google.com/assets/colab-badge.svg\" alt=\"Open In Colab\"/></a>"
      ]
    },
    {
      "cell_type": "code",
      "execution_count": 1,
      "metadata": {
        "id": "Z562G5r_auGU"
      },
      "outputs": [],
      "source": [
        "def swaprow(i, j, A):\n",
        "  tmp = A[i, :]\n",
        "  A[i, :] = A[j, :]\n",
        "  A[j, :] = tmp\n",
        "  return A\n",
        "#this function is not doing row swap properly"
      ]
    },
    {
      "cell_type": "code",
      "source": [
        "import numpy as np"
      ],
      "metadata": {
        "id": "EjCAATsFa920"
      },
      "execution_count": 2,
      "outputs": []
    },
    {
      "cell_type": "code",
      "source": [
        "A=np.array([[1, 2, 3], [4, 5, 6], [7, 8, 9]])\n",
        "A\n"
      ],
      "metadata": {
        "id": "f2qjLMy9bS7F",
        "colab": {
          "base_uri": "https://localhost:8080/"
        },
        "outputId": "6bc07db1-342e-445c-c782-472ee53368dc"
      },
      "execution_count": 3,
      "outputs": [
        {
          "output_type": "execute_result",
          "data": {
            "text/plain": [
              "array([[1, 2, 3],\n",
              "       [4, 5, 6],\n",
              "       [7, 8, 9]])"
            ]
          },
          "metadata": {},
          "execution_count": 3
        }
      ]
    },
    {
      "cell_type": "code",
      "source": [
        "swaprow(1,2,A)\n",
        "# validating our intution"
      ],
      "metadata": {
        "colab": {
          "base_uri": "https://localhost:8080/"
        },
        "id": "7siza6FGbWXl",
        "outputId": "bbd3d895-3250-49e3-f6af-ceb033731c10"
      },
      "execution_count": 4,
      "outputs": [
        {
          "output_type": "execute_result",
          "data": {
            "text/plain": [
              "array([[1, 2, 3],\n",
              "       [7, 8, 9],\n",
              "       [7, 8, 9]])"
            ]
          },
          "metadata": {},
          "execution_count": 4
        }
      ]
    },
    {
      "cell_type": "code",
      "source": [
        "def swap_row_1(i,j,A):\n",
        "  A[[i,j]]=A[[j,i]]\n",
        "  return A\n",
        "#Defining new function,which is accurate"
      ],
      "metadata": {
        "id": "iXBcggVUcH_o"
      },
      "execution_count": 5,
      "outputs": []
    },
    {
      "cell_type": "code",
      "source": [
        "A=np.array([[1, 2, 3], [4, 5, 6], [7, 8, 9]])\n",
        "A\n"
      ],
      "metadata": {
        "id": "tJ49fS_zw8pL",
        "colab": {
          "base_uri": "https://localhost:8080/"
        },
        "outputId": "04933c85-696a-403e-ee4b-b5136e47761b"
      },
      "execution_count": 6,
      "outputs": [
        {
          "output_type": "execute_result",
          "data": {
            "text/plain": [
              "array([[1, 2, 3],\n",
              "       [4, 5, 6],\n",
              "       [7, 8, 9]])"
            ]
          },
          "metadata": {},
          "execution_count": 6
        }
      ]
    },
    {
      "cell_type": "code",
      "source": [
        "swap_row_1(1,2,A)\n",
        "#validating our new function is working"
      ],
      "metadata": {
        "colab": {
          "base_uri": "https://localhost:8080/"
        },
        "id": "HjFJH2_akBK6",
        "outputId": "dc0b935b-1c19-49bd-aa2f-0177e969af96"
      },
      "execution_count": 7,
      "outputs": [
        {
          "output_type": "execute_result",
          "data": {
            "text/plain": [
              "array([[1, 2, 3],\n",
              "       [7, 8, 9],\n",
              "       [4, 5, 6]])"
            ]
          },
          "metadata": {},
          "execution_count": 7
        }
      ]
    }
  ]
}