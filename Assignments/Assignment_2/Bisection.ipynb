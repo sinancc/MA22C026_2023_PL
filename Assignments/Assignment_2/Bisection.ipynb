{
  "nbformat": 4,
  "nbformat_minor": 0,
  "metadata": {
    "colab": {
      "provenance": [],
      "authorship_tag": "ABX9TyOwnaN54ktLWgc/sM8PYUtS",
      "include_colab_link": true
    },
    "kernelspec": {
      "name": "python3",
      "display_name": "Python 3"
    },
    "language_info": {
      "name": "python"
    }
  },
  "cells": [
    {
      "cell_type": "markdown",
      "metadata": {
        "id": "view-in-github",
        "colab_type": "text"
      },
      "source": [
        "<a href=\"https://colab.research.google.com/github/sinancc/MA22C026_2023_PL/blob/main/Assignments/Assignment_2/Bisection.ipynb\" target=\"_parent\"><img src=\"https://colab.research.google.com/assets/colab-badge.svg\" alt=\"Open In Colab\"/></a>"
      ]
    },
    {
      "cell_type": "code",
      "source": [
        "import math"
      ],
      "metadata": {
        "id": "Va6WHXXcicDo"
      },
      "execution_count": 3,
      "outputs": []
    },
    {
      "cell_type": "code",
      "execution_count": 2,
      "metadata": {
        "id": "GmFMMJ8IT6J6"
      },
      "outputs": [],
      "source": [
        "def bisection(func,a,b,epsilon,niters):\n",
        "  if (func(a) * func(b) > 0): #we have to get f(a)*f(b)<0 inorder to do bisection\n",
        "    print(\"PUT ANOTHER GUESSES FOR A & B \\n\")\n",
        "  elif (func(a) * func(b) == 0): #either one of them has to be zero,means one is a solution\n",
        "    if func(a)==0:\n",
        "      Print(a,\"is the root\")\n",
        "    else:\n",
        "      print(b, \"is the root\")\n",
        "  count=0\n",
        "  c = a #inorder to define conditions\n",
        "  while (abs(func(c)) >= epsilon) and count<=niters and (func(a) * func(b) < 0): #introducing conditions required for bisection\n",
        "   # Find middle point\n",
        "      c = (a+b)/2\n",
        "\n",
        "      # Check whether middle point is root\n",
        "      if (func(c) == 0.0):\n",
        "          break\n",
        "\n",
        "      # Decide the side to repeat the steps\n",
        "      if (func(c)*func(a) < 0):\n",
        "        b = c\n",
        "      else:\n",
        "        a = c\n",
        "      count+=1\n",
        "  print(\"The value of root is : \",\"%.11f\"%c) #root\n",
        "  print(count) #total number of iterations\n",
        "  print(func(c)) #error\n",
        "\n",
        "\n",
        "\n",
        "\n"
      ]
    },
    {
      "cell_type": "code",
      "source": [
        "def func(x):\n",
        "  return x-1-math.cos(x)\n",
        "#we have to change this code for changing function"
      ],
      "metadata": {
        "id": "2TSVgYj4HCaM"
      },
      "execution_count": 6,
      "outputs": []
    },
    {
      "cell_type": "code",
      "source": [
        "a=float(input(\"Enter lower guess\"))\n",
        "b=float(input(\"Enter upper guess\"))\n",
        "epsilon=float(input(\"Enter your error bound\"))\n",
        "niters=int(input(\"Enter max no of iterations\"))\n",
        "bisection(func,a,b,epsilon,niters)\n",
        "#input your upper lower limits,error bound,max no of iters etc here"
      ],
      "metadata": {
        "colab": {
          "base_uri": "https://localhost:8080/"
        },
        "id": "8a57bO0HG2e8",
        "outputId": "9e8a1c44-3e26-418c-d025-f77c9ec926e4"
      },
      "execution_count": 7,
      "outputs": [
        {
          "output_type": "stream",
          "name": "stdout",
          "text": [
            "Enter lower guess-2\n",
            "Enter upper guess2\n",
            "Enter your error bound1E-10\n",
            "Enter max no of iterations100\n",
            "The value of root is :  1.28342874174\n",
            "35\n",
            "-2.0293378089064618e-11\n"
          ]
        }
      ]
    },
    {
      "cell_type": "code",
      "source": [
        "bisection(func,a=1,b=2,epsilon=1E-6,niters=100)\n",
        "#just a test case"
      ],
      "metadata": {
        "colab": {
          "base_uri": "https://localhost:8080/"
        },
        "id": "4OnSctDQ_xIZ",
        "outputId": "662e7302-5c5b-4a9e-a8d9-ce748be5f656"
      },
      "execution_count": 8,
      "outputs": [
        {
          "output_type": "stream",
          "name": "stdout",
          "text": [
            "The value of root is :  1.28342914581\n",
            "20\n",
            "7.915650054313161e-07\n"
          ]
        }
      ]
    },
    {
      "cell_type": "code",
      "source": [],
      "metadata": {
        "id": "pTUe1ne08ZNN"
      },
      "execution_count": null,
      "outputs": []
    }
  ]
}