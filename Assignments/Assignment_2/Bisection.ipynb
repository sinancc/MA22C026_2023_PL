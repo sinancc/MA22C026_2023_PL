{
  "nbformat": 4,
  "nbformat_minor": 0,
  "metadata": {
    "colab": {
      "provenance": []
    },
    "kernelspec": {
      "name": "python3",
      "display_name": "Python 3"
    },
    "language_info": {
      "name": "python"
    }
  },
  "cells": [
    {
      "cell_type": "code",
      "source": [
        "import math"
      ],
      "metadata": {
        "id": "Va6WHXXcicDo"
      },
      "execution_count": 31,
      "outputs": []
    },
    {
      "cell_type": "code",
      "execution_count": 32,
      "metadata": {
        "id": "GmFMMJ8IT6J6"
      },
      "outputs": [],
      "source": [
        "def bisection(func,a,b,epsilon,niters):\n",
        "  if (func(a) * func(b) > 0): #we have to get f(a)*f(b)<0 inorder to do bisection\n",
        "    print(\"PUT ANOTHER GUESSES FOR A & B \\n\")\n",
        "  elif (func(a) * func(b) == 0): #either one of them has to be zero,means one is a solution\n",
        "    if func(a)==0:\n",
        "      Print(a,\"is the root\")\n",
        "    else:\n",
        "      print(b, \"is the root\")\n",
        "  count=0\n",
        "  c = a #inorder to define conditions\n",
        "  while (abs(func(c)) >= epsilon) and count<=niters and (func(a) * func(b) < 0): #introducing conditions required for bisection\n",
        "   # Find middle point\n",
        "      c = (a+b)/2\n",
        "\n",
        "      # Check if middle point is root\n",
        "      if (func(c) == 0.0):\n",
        "          break\n",
        "\n",
        "      # Decide the side to repeat the steps\n",
        "      if (func(c)*func(a) < 0):\n",
        "        b = c\n",
        "      else:\n",
        "        a = c\n",
        "      count+=1\n",
        "  print(\"The value of root is : \",\"%.11f\"%c)\n",
        "  print(count)\n",
        "  print(func(c))\n",
        "\n",
        "\n",
        "\n",
        "\n"
      ]
    },
    {
      "cell_type": "code",
      "source": [
        "def func(x):\n",
        "  return x-1-math.cos(x)\n",
        "#we have to change this code for changing function"
      ],
      "metadata": {
        "id": "2TSVgYj4HCaM"
      },
      "execution_count": 33,
      "outputs": []
    },
    {
      "cell_type": "code",
      "source": [
        "a=float(input(\"Enter lower guess\"))\n",
        "b=float(input(\"Enter upper guess\"))\n",
        "epsilon=float(input(\"Enter your error bound\"))\n",
        "niters=int(input(\"Enter max no of iterations\"))\n",
        "bisection(func,a,b,epsilon,niters)\n",
        "#input your upper lower limits,error bound,max no of iters etc here"
      ],
      "metadata": {
        "colab": {
          "base_uri": "https://localhost:8080/"
        },
        "id": "8a57bO0HG2e8",
        "outputId": "c07d157c-16de-4987-f5ec-252256c3108c"
      },
      "execution_count": 34,
      "outputs": [
        {
          "output_type": "stream",
          "name": "stdout",
          "text": [
            "Enter lower guess-3\n",
            "Enter upper guess3\n",
            "Enter your error bound1E-10\n",
            "Enter max no of iterations40\n",
            "The value of root is :  1.28342874174\n",
            "34\n",
            "-2.0293378089064618e-11\n"
          ]
        }
      ]
    },
    {
      "cell_type": "code",
      "source": [
        "bisection(func,a=-2,b=2,epsilon=1E-10,niters=100)\n",
        "#just a test case"
      ],
      "metadata": {
        "colab": {
          "base_uri": "https://localhost:8080/"
        },
        "id": "4OnSctDQ_xIZ",
        "outputId": "cf7b7d97-f6cd-411d-9823-5fbf068caa45"
      },
      "execution_count": 35,
      "outputs": [
        {
          "output_type": "stream",
          "name": "stdout",
          "text": [
            "The value of root is :  1.28342874174\n",
            "35\n",
            "-2.0293378089064618e-11\n"
          ]
        }
      ]
    }
  ]
}