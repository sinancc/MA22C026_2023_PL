{
  "nbformat": 4,
  "nbformat_minor": 0,
  "metadata": {
    "colab": {
      "provenance": []
    },
    "kernelspec": {
      "name": "python3",
      "display_name": "Python 3"
    },
    "language_info": {
      "name": "python"
    }
  },
  "cells": [
    {
      "cell_type": "code",
      "execution_count": 29,
      "metadata": {
        "colab": {
          "base_uri": "https://localhost:8080/"
        },
        "id": "lDp5BFunw6TG",
        "outputId": "f53f8356-deb3-4775-8d7c-e5e6c4b51c2d"
      },
      "outputs": [
        {
          "output_type": "execute_result",
          "data": {
            "text/plain": [
              "array([[ 1, -2,  9,  5,  4],\n",
              "       [ 1, -1,  6,  5, -3],\n",
              "       [-2,  0, -6,  1, -2],\n",
              "       [ 4,  1,  9,  1, -9]])"
            ]
          },
          "metadata": {},
          "execution_count": 29
        }
      ],
      "source": [
        "import numpy as np\n",
        "from scipy.linalg import svd, qr\n",
        "A = np.array([[1, -2, 9, 5, 4,], [1, -1, 6, 5, -3], [-2, 0, -6, 1, -2],[4, 1, 9, 1, -9]])\n",
        "A"
      ]
    },
    {
      "cell_type": "code",
      "source": [
        "np.linalg.matrix_rank(A) #rank of matrix is 3"
      ],
      "metadata": {
        "colab": {
          "base_uri": "https://localhost:8080/"
        },
        "id": "Ucw7COLHxHIe",
        "outputId": "b7a2ccba-79fd-4ae4-d89a-46db5fabac91"
      },
      "execution_count": 30,
      "outputs": [
        {
          "output_type": "execute_result",
          "data": {
            "text/plain": [
              "3"
            ]
          },
          "metadata": {},
          "execution_count": 30
        }
      ]
    },
    {
      "cell_type": "code",
      "source": [
        "s,v,d = svd(A) #singular value decomposition"
      ],
      "metadata": {
        "id": "goHcOEdzxRm6"
      },
      "execution_count": 31,
      "outputs": []
    },
    {
      "cell_type": "code",
      "source": [
        "v"
      ],
      "metadata": {
        "colab": {
          "base_uri": "https://localhost:8080/"
        },
        "id": "tjswJ_5jxWey",
        "outputId": "c1458ed7-60ff-405a-9aad-b91f52a59fd2"
      },
      "execution_count": 32,
      "outputs": [
        {
          "output_type": "execute_result",
          "data": {
            "text/plain": [
              "array([1.72083086e+01, 1.01450209e+01, 4.99526437e+00, 9.56282692e-16])"
            ]
          },
          "metadata": {},
          "execution_count": 32
        }
      ]
    },
    {
      "cell_type": "code",
      "source": [
        "d.T"
      ],
      "metadata": {
        "colab": {
          "base_uri": "https://localhost:8080/"
        },
        "id": "8jPatNeexbXN",
        "outputId": "64ac8f87-b3c2-4692-e0fc-1cbd9d2d5910"
      },
      "execution_count": 33,
      "outputs": [
        {
          "output_type": "execute_result",
          "data": {
            "text/plain": [
              "array([[ 0.24638127, -0.12991821,  0.3027347 , -0.87219483,  0.26466093],\n",
              "       [-0.04503456, -0.20626881,  0.2022255 ,  0.3573579 ,  0.8870317 ],\n",
              "       [ 0.8742475 ,  0.22905181,  0.3015276 ,  0.29073161, -0.08822031],\n",
              "       [ 0.30107333,  0.27058334, -0.84037193, -0.14709627,  0.32905504],\n",
              "       [-0.28690474,  0.90271499,  0.26516538, -0.07354813,  0.16452752]])"
            ]
          },
          "metadata": {},
          "execution_count": 33
        }
      ]
    },
    {
      "cell_type": "code",
      "source": [
        "q,r=qr(A)"
      ],
      "metadata": {
        "id": "wuWUdrNl6x-B"
      },
      "execution_count": 34,
      "outputs": []
    },
    {
      "cell_type": "code",
      "source": [
        "q1,r1 = qr(A.T)"
      ],
      "metadata": {
        "id": "mOK1MOHr66PY"
      },
      "execution_count": 35,
      "outputs": []
    },
    {
      "cell_type": "code",
      "source": [
        "q1"
      ],
      "metadata": {
        "colab": {
          "base_uri": "https://localhost:8080/"
        },
        "id": "9vlTo5uh-s9K",
        "outputId": "9758c126-6836-4400-b667-0407928e1520"
      },
      "execution_count": 36,
      "outputs": [
        {
          "output_type": "execute_result",
          "data": {
            "text/plain": [
              "array([[-0.08873565, -0.07763996, -0.39411774,  0.57324869, -0.70862908],\n",
              "       [ 0.1774713 , -0.01770736, -0.2316473 ,  0.68751498,  0.6647203 ],\n",
              "       [-0.79862086, -0.1797978 , -0.48741131, -0.1910829 ,  0.23620969],\n",
              "       [-0.44367825, -0.3881998 ,  0.72286651,  0.36021819, -0.01254537],\n",
              "       [-0.3549426 ,  0.90035112,  0.17579809,  0.18010909, -0.00627268]])"
            ]
          },
          "metadata": {},
          "execution_count": 36
        }
      ]
    },
    {
      "cell_type": "code",
      "source": [
        "r1"
      ],
      "metadata": {
        "colab": {
          "base_uri": "https://localhost:8080/"
        },
        "id": "7QjN9qn8-zUK",
        "outputId": "421a2da2-bd7b-46ab-d851-b000b5ba6ab1"
      },
      "execution_count": 37,
      "outputs": [
        {
          "output_type": "execute_result",
          "data": {
            "text/plain": [
              "array([[-1.12694277e+01, -6.21149557e+00,  5.23540341e+00,\n",
              "        -4.61425385e+00],\n",
              "       [ 0.00000000e+00, -5.78077182e+00, -9.54835308e-01,\n",
              "        -1.04378074e+01],\n",
              "       [ 0.00000000e+00,  0.00000000e+00,  4.08397364e+00,\n",
              "        -7.05413629e+00],\n",
              "       [ 0.00000000e+00,  0.00000000e+00,  0.00000000e+00,\n",
              "         2.39728491e-15],\n",
              "       [ 0.00000000e+00,  0.00000000e+00,  0.00000000e+00,\n",
              "         0.00000000e+00]])"
            ]
          },
          "metadata": {},
          "execution_count": 37
        }
      ]
    },
    {
      "cell_type": "code",
      "source": [
        "check = np.zeros((4,5)) #creating a matrix joining both\n",
        "for i in range(4):\n",
        "  if i<2:\n",
        "    check[i,:] = d.T[3+i,:] #lasttwo rows of d transpose\n",
        "  else:\n",
        "\n",
        "    check[i,:] = q1[i+1,:] #last two rows of q1"
      ],
      "metadata": {
        "id": "CaSszFYi-2bs"
      },
      "execution_count": 38,
      "outputs": []
    },
    {
      "cell_type": "code",
      "source": [
        "check"
      ],
      "metadata": {
        "colab": {
          "base_uri": "https://localhost:8080/"
        },
        "id": "kvLWn-pzAvci",
        "outputId": "11902717-c4a1-4776-a8ee-8653786c3096"
      },
      "execution_count": 39,
      "outputs": [
        {
          "output_type": "execute_result",
          "data": {
            "text/plain": [
              "array([[ 0.30107333,  0.27058334, -0.84037193, -0.14709627,  0.32905504],\n",
              "       [-0.28690474,  0.90271499,  0.26516538, -0.07354813,  0.16452752],\n",
              "       [-0.44367825, -0.3881998 ,  0.72286651,  0.36021819, -0.01254537],\n",
              "       [-0.3549426 ,  0.90035112,  0.17579809,  0.18010909, -0.00627268]])"
            ]
          },
          "metadata": {},
          "execution_count": 39
        }
      ]
    },
    {
      "cell_type": "code",
      "source": [
        "np.linalg.matrix_rank(check) #they are not same,as rank is 4"
      ],
      "metadata": {
        "colab": {
          "base_uri": "https://localhost:8080/"
        },
        "id": "lpyRBm5uBA9j",
        "outputId": "989371d7-5635-4c4f-a237-6d6b1de8d6a5"
      },
      "execution_count": 40,
      "outputs": [
        {
          "output_type": "execute_result",
          "data": {
            "text/plain": [
              "4"
            ]
          },
          "metadata": {},
          "execution_count": 40
        }
      ]
    }
  ]
}