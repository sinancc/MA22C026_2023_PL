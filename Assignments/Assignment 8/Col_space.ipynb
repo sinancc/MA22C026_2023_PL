{
  "nbformat": 4,
  "nbformat_minor": 0,
  "metadata": {
    "colab": {
      "provenance": []
    },
    "kernelspec": {
      "name": "python3",
      "display_name": "Python 3"
    },
    "language_info": {
      "name": "python"
    },
    "accelerator": "TPU"
  },
  "cells": [
    {
      "cell_type": "code",
      "execution_count": null,
      "metadata": {
        "id": "lXZYIEAlTwhg"
      },
      "outputs": [],
      "source": [
        " from scipy.linalg import svd,qr\n",
        " import numpy as np\n",
        " import time"
      ]
    },
    {
      "cell_type": "code",
      "source": [
        "A = np.array([[1, -2, 3, -3], [2, -4, 9, -2], [-3, 6, -9, 9]]) #given array\n",
        "A"
      ],
      "metadata": {
        "colab": {
          "base_uri": "https://localhost:8080/"
        },
        "id": "HTI0MznsXpPP",
        "outputId": "7fb894b6-e6c2-4d8d-d8f1-3e7924e6aaad"
      },
      "execution_count": null,
      "outputs": [
        {
          "output_type": "execute_result",
          "data": {
            "text/plain": [
              "array([[ 1, -2,  3, -3],\n",
              "       [ 2, -4,  9, -2],\n",
              "       [-3,  6, -9,  9]])"
            ]
          },
          "metadata": {},
          "execution_count": 8
        }
      ]
    },
    {
      "cell_type": "code",
      "source": [
        "np.linalg.matrix_rank(A) #rank of array"
      ],
      "metadata": {
        "colab": {
          "base_uri": "https://localhost:8080/"
        },
        "id": "mWlEddQccLDN",
        "outputId": "4f9ac546-6a40-4ab5-ad0e-e7539f155def"
      },
      "execution_count": null,
      "outputs": [
        {
          "output_type": "execute_result",
          "data": {
            "text/plain": [
              "2"
            ]
          },
          "metadata": {},
          "execution_count": 9
        }
      ]
    },
    {
      "cell_type": "code",
      "source": [
        "s,v,r = svd(A) #Finding svd of A\n",
        "s"
      ],
      "metadata": {
        "colab": {
          "base_uri": "https://localhost:8080/"
        },
        "id": "ZiES8HiEcWK1",
        "outputId": "3ed55183-7c04-4c1a-e9c1-539e7d9c1a68"
      },
      "execution_count": null,
      "outputs": [
        {
          "output_type": "execute_result",
          "data": {
            "text/plain": [
              "array([[ 2.66235859e-01,  1.70641342e-01,  9.48683298e-01],\n",
              "       [ 5.39615303e-01, -8.41911709e-01, -5.55111512e-17],\n",
              "       [-7.98707576e-01, -5.11924025e-01,  3.16227766e-01]])"
            ]
          },
          "metadata": {},
          "execution_count": 10
        }
      ]
    },
    {
      "cell_type": "code",
      "source": [
        "v"
      ],
      "metadata": {
        "colab": {
          "base_uri": "https://localhost:8080/"
        },
        "id": "jtuK6prntPH5",
        "outputId": "37c2b74e-3337-4d73-a37b-eb9899949c76"
      },
      "execution_count": null,
      "outputs": [
        {
          "output_type": "execute_result",
          "data": {
            "text/plain": [
              "array([1.78088115e+01, 4.22448020e+00, 3.71370969e-16])"
            ]
          },
          "metadata": {},
          "execution_count": 11
        }
      ]
    },
    {
      "cell_type": "code",
      "source": [
        "s@s.T.conjugate() #checking s is unitary"
      ],
      "metadata": {
        "colab": {
          "base_uri": "https://localhost:8080/"
        },
        "id": "CeXBwgWJwg0o",
        "outputId": "b926f0b9-819f-4bf4-cc8f-05821b1910f7"
      },
      "execution_count": null,
      "outputs": [
        {
          "output_type": "execute_result",
          "data": {
            "text/plain": [
              "array([[1.00000000e+00, 1.23757111e-17, 1.72285197e-17],\n",
              "       [1.23757111e-17, 1.00000000e+00, 1.99174924e-16],\n",
              "       [1.72285197e-17, 1.99174924e-16, 1.00000000e+00]])"
            ]
          },
          "metadata": {},
          "execution_count": 12
        }
      ]
    },
    {
      "cell_type": "code",
      "source": [
        "s[:,:2] #taking first 2 coloumns"
      ],
      "metadata": {
        "colab": {
          "base_uri": "https://localhost:8080/"
        },
        "id": "QyWndBpdchHO",
        "outputId": "1ecd9151-9e8e-4a68-fbb9-e7f18010a2f2"
      },
      "execution_count": null,
      "outputs": [
        {
          "output_type": "execute_result",
          "data": {
            "text/plain": [
              "array([[ 0.26623586,  0.17064134],\n",
              "       [ 0.5396153 , -0.84191171],\n",
              "       [-0.79870758, -0.51192403]])"
            ]
          },
          "metadata": {},
          "execution_count": 13
        }
      ]
    },
    {
      "cell_type": "code",
      "source": [
        "a , b=qr(A)\n",
        "a #calculating using qr"
      ],
      "metadata": {
        "colab": {
          "base_uri": "https://localhost:8080/"
        },
        "id": "SK3UOh_VctQv",
        "outputId": "9a165e6a-c49a-466e-d0b4-bd2841461448"
      },
      "execution_count": null,
      "outputs": [
        {
          "output_type": "execute_result",
          "data": {
            "text/plain": [
              "array([[-0.26726124,  0.95618289, -0.11952286],\n",
              "       [-0.53452248, -0.04390192,  0.84401323],\n",
              "       [ 0.80178373,  0.28945968,  0.52283453]])"
            ]
          },
          "metadata": {},
          "execution_count": 14
        }
      ]
    },
    {
      "cell_type": "code",
      "source": [
        "a[:,:2] #taking first 2 coloumns as rank is 2"
      ],
      "metadata": {
        "colab": {
          "base_uri": "https://localhost:8080/"
        },
        "id": "nqTSCXBab7xp",
        "outputId": "aa70e3a5-dff7-4abb-b1e5-f200f32b5dd5"
      },
      "execution_count": null,
      "outputs": [
        {
          "output_type": "execute_result",
          "data": {
            "text/plain": [
              "array([[-0.26726124,  0.95618289],\n",
              "       [-0.53452248, -0.04390192],\n",
              "       [ 0.80178373,  0.28945968]])"
            ]
          },
          "metadata": {},
          "execution_count": 15
        }
      ]
    },
    {
      "cell_type": "code",
      "source": [
        "check = np.zeros((3,4)) #creating a matrix joining both\n",
        "for i in range(4):\n",
        "  if i<2:\n",
        "\n",
        "    check[:,i] = s[:,i]\n",
        "  else:\n",
        "\n",
        "    check[:,i] = a[:,i-2]\n"
      ],
      "metadata": {
        "id": "jZ3PZP-6dKHR"
      },
      "execution_count": null,
      "outputs": []
    },
    {
      "cell_type": "code",
      "source": [
        "np.linalg.matrix_rank(check) #rank will be 2 if no truncation error as they have same span"
      ],
      "metadata": {
        "colab": {
          "base_uri": "https://localhost:8080/"
        },
        "id": "wfG0cUUDd2jt",
        "outputId": "27faa2ae-8345-4660-98e0-141dcc1779df"
      },
      "execution_count": null,
      "outputs": [
        {
          "output_type": "execute_result",
          "data": {
            "text/plain": [
              "3"
            ]
          },
          "metadata": {},
          "execution_count": 17
        }
      ]
    },
    {
      "cell_type": "code",
      "source": [
        "check"
      ],
      "metadata": {
        "colab": {
          "base_uri": "https://localhost:8080/"
        },
        "id": "cdPp-e5Cd9gL",
        "outputId": "cb66e202-cff5-4d9b-a9e9-e849c597d3cf"
      },
      "execution_count": null,
      "outputs": [
        {
          "output_type": "execute_result",
          "data": {
            "text/plain": [
              "array([[ 0.26623586,  0.17064134, -0.26726124,  0.95618289],\n",
              "       [ 0.5396153 , -0.84191171, -0.53452248, -0.04390192],\n",
              "       [-0.79870758, -0.51192403,  0.80178373,  0.28945968]])"
            ]
          },
          "metadata": {},
          "execution_count": 18
        }
      ]
    },
    {
      "cell_type": "code",
      "source": [
        " %timeit s,v,r=svd(A)"
      ],
      "metadata": {
        "colab": {
          "base_uri": "https://localhost:8080/"
        },
        "id": "pB76h7-Ad_sG",
        "outputId": "2e634f9f-3de0-4816-bedf-d8ef7da3af8d"
      },
      "execution_count": null,
      "outputs": [
        {
          "output_type": "stream",
          "name": "stdout",
          "text": [
            "21.8 µs ± 2.57 µs per loop (mean ± std. dev. of 7 runs, 100000 loops each)\n"
          ]
        }
      ]
    },
    {
      "cell_type": "code",
      "source": [
        "%timeit a , b=qr(A) #svd method is faster"
      ],
      "metadata": {
        "colab": {
          "base_uri": "https://localhost:8080/"
        },
        "id": "vvy3A66diEv9",
        "outputId": "95e40cc1-d50c-4456-d516-ed428436e8b0"
      },
      "execution_count": null,
      "outputs": [
        {
          "output_type": "stream",
          "name": "stdout",
          "text": [
            "28 µs ± 916 ns per loop (mean ± std. dev. of 7 runs, 10000 loops each)\n"
          ]
        }
      ]
    }
  ]
}