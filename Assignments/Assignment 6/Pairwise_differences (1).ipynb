{
  "nbformat": 4,
  "nbformat_minor": 0,
  "metadata": {
    "colab": {
      "provenance": []
    },
    "kernelspec": {
      "name": "python3",
      "display_name": "Python 3"
    },
    "language_info": {
      "name": "python"
    }
  },
  "cells": [
    {
      "cell_type": "code",
      "execution_count": 1,
      "metadata": {
        "id": "GtsHLqfjJ0qc"
      },
      "outputs": [],
      "source": [
        "import numpy as np\n",
        "x = np.random.rand(5)\n",
        "#random vector"
      ]
    },
    {
      "cell_type": "code",
      "source": [
        "x"
      ],
      "metadata": {
        "colab": {
          "base_uri": "https://localhost:8080/"
        },
        "id": "dwUjZvYQ6LEu",
        "outputId": "6d697c07-343c-4d8d-fcc1-9703d39ca281"
      },
      "execution_count": 2,
      "outputs": [
        {
          "output_type": "execute_result",
          "data": {
            "text/plain": [
              "array([0.54998432, 0.10569671, 0.48268457, 0.29555043, 0.36576515])"
            ]
          },
          "metadata": {},
          "execution_count": 2
        }
      ]
    },
    {
      "cell_type": "code",
      "source": [
        "j=0\n",
        "np.array([[x[i]-x[j]for i in range(len(x)) ]for j in range(len(x))])\n",
        "#function such that D_{i,j}=x[i]-x[j] \\forall i,j in len(x)"
      ],
      "metadata": {
        "id": "9y6FvYdfNGO6",
        "colab": {
          "base_uri": "https://localhost:8080/"
        },
        "outputId": "64af7e63-626a-4e5c-9055-66ab06f628ba"
      },
      "execution_count": 4,
      "outputs": [
        {
          "output_type": "execute_result",
          "data": {
            "text/plain": [
              "array([[ 0.        , -0.4442876 , -0.06729975, -0.25443388, -0.18421917],\n",
              "       [ 0.4442876 ,  0.        ,  0.37698785,  0.18985372,  0.26006844],\n",
              "       [ 0.06729975, -0.37698785,  0.        , -0.18713413, -0.11691942],\n",
              "       [ 0.25443388, -0.18985372,  0.18713413,  0.        ,  0.07021472],\n",
              "       [ 0.18421917, -0.26006844,  0.11691942, -0.07021472,  0.        ]])"
            ]
          },
          "metadata": {},
          "execution_count": 4
        }
      ]
    },
    {
      "cell_type": "code",
      "source": [
        "#we get a skew symmetric matrix"
      ],
      "metadata": {
        "id": "2sruQEuO6MSu"
      },
      "execution_count": null,
      "outputs": []
    }
  ]
}