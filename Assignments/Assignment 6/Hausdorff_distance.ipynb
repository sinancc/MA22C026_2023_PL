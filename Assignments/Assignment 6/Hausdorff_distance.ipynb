{
  "nbformat": 4,
  "nbformat_minor": 0,
  "metadata": {
    "colab": {
      "provenance": []
    },
    "kernelspec": {
      "name": "python3",
      "display_name": "Python 3"
    },
    "language_info": {
      "name": "python"
    }
  },
  "cells": [
    {
      "cell_type": "code",
      "execution_count": 1,
      "metadata": {
        "id": "UCW3pbTkZPIo"
      },
      "outputs": [],
      "source": [
        "import numpy as np\n",
        "import math\n",
        "P = np.random.rand(5, 2) #taking random sets\n",
        "Q = np.random.rand(7, 2)"
      ]
    },
    {
      "cell_type": "code",
      "source": [
        "def euclidean_distance(vector): #defining euclidean distane as a function\n",
        "    a = 0\n",
        "    for component in vector:\n",
        "        a += component ** 2\n",
        "    return math.sqrt(a)"
      ],
      "metadata": {
        "id": "fxQcDYp9rC2-"
      },
      "execution_count": 2,
      "outputs": []
    },
    {
      "cell_type": "code",
      "source": [
        "def hausdorff_distance(P,Q):#defining hausdorff function\n",
        "    h_pq = max(min(euclidean_distance(p-q) for q in Q) for p in P)\n",
        "    h_qp = max(min(euclidean_distance(q-p) for p in P) for q in Q)\n",
        "    return max(h_pq,h_qp)"
      ],
      "metadata": {
        "id": "iwwyuXY8sUoE"
      },
      "execution_count": 3,
      "outputs": []
    },
    {
      "cell_type": "code",
      "source": [
        "hausdorff_distance(P,Q)"
      ],
      "metadata": {
        "colab": {
          "base_uri": "https://localhost:8080/"
        },
        "id": "bg9RLQOQsXvh",
        "outputId": "c6bdd326-5de5-4610-d24c-9a3853e318e5"
      },
      "execution_count": 4,
      "outputs": [
        {
          "output_type": "execute_result",
          "data": {
            "text/plain": [
              "0.39188167467693014"
            ]
          },
          "metadata": {},
          "execution_count": 4
        }
      ]
    }
  ]
}