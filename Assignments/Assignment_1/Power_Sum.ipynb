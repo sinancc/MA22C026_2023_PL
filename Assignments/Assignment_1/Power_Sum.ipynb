{
  "nbformat": 4,
  "nbformat_minor": 0,
  "metadata": {
    "colab": {
      "provenance": []
    },
    "kernelspec": {
      "name": "python3",
      "display_name": "Python 3"
    },
    "language_info": {
      "name": "python"
    }
  },
  "cells": [
    {
      "cell_type": "code",
      "execution_count": 2,
      "metadata": {
        "colab": {
          "base_uri": "https://localhost:8080/"
        },
        "id": "2dARNOfretWA",
        "outputId": "8f588368-a77b-4951-9713-fc1c8215bc03"
      },
      "outputs": [
        {
          "output_type": "stream",
          "name": "stdout",
          "text": [
            "Please Enter integer  N: 10\n",
            "Please Enter integer i: 2\n",
            "385\n"
          ]
        }
      ],
      "source": [
        "N=int(input(\"Please Enter integer  N: \")) #input an integer for N\n",
        "i=int(input(\"Please Enter integer i: \")) #input an integer for i\n",
        "sum=0 #initial sum =0\n",
        "for k in range(1,N+1): # taking set 1,2,...N\n",
        "  sum+=k**i #sum=sum+k**i\n",
        "print(sum) #printing final values"
      ]
    }
  ]
}