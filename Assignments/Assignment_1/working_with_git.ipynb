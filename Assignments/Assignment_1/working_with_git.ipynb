{
  "nbformat": 4,
  "nbformat_minor": 0,
  "metadata": {
    "colab": {
      "provenance": []
    },
    "kernelspec": {
      "name": "python3",
      "display_name": "Python 3"
    },
    "language_info": {
      "name": "python"
    }
  },
  "cells": [
    {
      "cell_type": "code",
      "source": [
        "from git import Repo\n",
        "#importing class repo from git module"
      ],
      "metadata": {
        "id": "-1_5tgviTiBd"
      },
      "execution_count": 14,
      "outputs": []
    },
    {
      "cell_type": "code",
      "source": [
        "help(Repo.clone_from)\n",
        "#class documentation"
      ],
      "metadata": {
        "colab": {
          "base_uri": "https://localhost:8080/"
        },
        "id": "f9d5Tj19Tu6W",
        "outputId": "76deb760-46c3-435b-8030-1931147e8e66"
      },
      "execution_count": 15,
      "outputs": [
        {
          "output_type": "stream",
          "name": "stdout",
          "text": [
            "Help on method clone_from in module git.repo.base:\n",
            "\n",
            "clone_from(url: 'PathLike', to_path: 'PathLike', progress: 'Optional[Callable]' = None, env: 'Optional[Mapping[str, str]]' = None, multi_options: 'Optional[List[str]]' = None, allow_unsafe_protocols: 'bool' = False, allow_unsafe_options: 'bool' = False, **kwargs: 'Any') -> \"'Repo'\" method of builtins.type instance\n",
            "    Create a clone from the given URL\n",
            "    \n",
            "    :param url: valid git url, see http://www.kernel.org/pub/software/scm/git/docs/git-clone.html#URLS\n",
            "    :param to_path: Path to which the repository should be cloned to\n",
            "    :param progress: See 'git.remote.Remote.push'.\n",
            "    :param env: Optional dictionary containing the desired environment variables.\n",
            "        Note: Provided variables will be used to update the execution\n",
            "        environment for `git`. If some variable is not specified in `env`\n",
            "        and is defined in `os.environ`, value from `os.environ` will be used.\n",
            "        If you want to unset some variable, consider providing empty string\n",
            "        as its value.\n",
            "    :param multi_options: See ``clone`` method\n",
            "    :param allow_unsafe_protocols: Allow unsafe protocols to be used, like ext\n",
            "    :param allow_unsafe_options: Allow unsafe options to be used, like --upload-pack\n",
            "    :param kwargs: see the ``clone`` method\n",
            "    :return: Repo instance pointing to the cloned directory\n",
            "\n"
          ]
        }
      ]
    },
    {
      "cell_type": "code",
      "source": [
        "help(Repo.__init__)"
      ],
      "metadata": {
        "colab": {
          "base_uri": "https://localhost:8080/"
        },
        "id": "BTEwEgFST28g",
        "outputId": "0d83d77d-3ad9-49a9-c084-d9eb1d0e628f"
      },
      "execution_count": 16,
      "outputs": [
        {
          "output_type": "stream",
          "name": "stdout",
          "text": [
            "Help on function __init__ in module git.repo.base:\n",
            "\n",
            "__init__(self, path: 'Optional[PathLike]' = None, odbt: 'Type[LooseObjectDB]' = <class 'git.db.GitCmdObjectDB'>, search_parent_directories: 'bool' = False, expand_vars: 'bool' = True) -> 'None'\n",
            "    Create a new Repo instance\n",
            "    \n",
            "    :param path:\n",
            "        the path to either the root git directory or the bare git repo::\n",
            "    \n",
            "            repo = Repo(\"/Users/mtrier/Development/git-python\")\n",
            "            repo = Repo(\"/Users/mtrier/Development/git-python.git\")\n",
            "            repo = Repo(\"~/Development/git-python.git\")\n",
            "            repo = Repo(\"$REPOSITORIES/Development/git-python.git\")\n",
            "            repo = Repo(\"C:\\Users\\mtrier\\Development\\git-python\\.git\")\n",
            "    \n",
            "        - In *Cygwin*, path may be a `'cygdrive/...'` prefixed path.\n",
            "        - If it evaluates to false, :envvar:`GIT_DIR` is used, and if this also evals to false,\n",
            "          the current-directory is used.\n",
            "    :param odbt:\n",
            "        Object DataBase type - a type which is constructed by providing\n",
            "        the directory containing the database objects, i.e. .git/objects. It will\n",
            "        be used to access all object data\n",
            "    :param search_parent_directories:\n",
            "        if True, all parent directories will be searched for a valid repo as well.\n",
            "    \n",
            "        Please note that this was the default behaviour in older versions of GitPython,\n",
            "        which is considered a bug though.\n",
            "    :raise InvalidGitRepositoryError:\n",
            "    :raise NoSuchPathError:\n",
            "    :return: git.Repo\n",
            "\n"
          ]
        }
      ]
    },
    {
      "cell_type": "code",
      "source": [
        "coursefolder = '/Users/Jay/tmpdir/'\n",
        "#Course repository"
      ],
      "metadata": {
        "id": "dAXLM6NNT6vv"
      },
      "execution_count": 17,
      "outputs": []
    },
    {
      "cell_type": "code",
      "source": [
        "import os\n",
        "os.path.abspath(coursefolder)\n",
        "#making a local copy"
      ],
      "metadata": {
        "colab": {
          "base_uri": "https://localhost:8080/",
          "height": 35
        },
        "id": "n0GdE1wRT-MT",
        "outputId": "70dc024d-1673-4efd-eb14-3227beb738ff"
      },
      "execution_count": 18,
      "outputs": [
        {
          "output_type": "execute_result",
          "data": {
            "text/plain": [
              "'/Users/Jay/tmpdir'"
            ],
            "application/vnd.google.colaboratory.intrinsic+json": {
              "type": "string"
            }
          },
          "metadata": {},
          "execution_count": 18
        }
      ]
    },
    {
      "cell_type": "code",
      "source": [
        "repodir = os.path.join(os.path.abspath(coursefolder), 'mth271content')\n",
        "repodir # full path name of the subfolder"
      ],
      "metadata": {
        "colab": {
          "base_uri": "https://localhost:8080/",
          "height": 35
        },
        "id": "uvbABWxXr69g",
        "outputId": "1c1981b9-786e-4bd9-c9c1-6a8925786d59"
      },
      "execution_count": 19,
      "outputs": [
        {
          "output_type": "execute_result",
          "data": {
            "text/plain": [
              "'/Users/Jay/tmpdir/mth271content'"
            ],
            "application/vnd.google.colaboratory.intrinsic+json": {
              "type": "string"
            }
          },
          "metadata": {},
          "execution_count": 19
        }
      ]
    },
    {
      "cell_type": "code",
      "source": [
        "os.path.isdir(repodir)\n",
        "#in first run it was false,after running once it became true"
      ],
      "metadata": {
        "colab": {
          "base_uri": "https://localhost:8080/"
        },
        "id": "f4Fc_TJRr_sf",
        "outputId": "6781fa53-5a08-4071-c499-c8f4ef975358"
      },
      "execution_count": 20,
      "outputs": [
        {
          "output_type": "execute_result",
          "data": {
            "text/plain": [
              "True"
            ]
          },
          "metadata": {},
          "execution_count": 20
        }
      ]
    },
    {
      "cell_type": "code",
      "source": [
        "if os.path.isdir(repodir): # if repo exists, pull newest data\n",
        "  repo = Repo(repodir)\n",
        "  repo.remotes.origin.pull()\n",
        "else: # otherwise, clone from remote\n",
        "  repo = Repo.clone_from('https://github.com/jayggg/mth271content' ,repodir)\n",
        "#Repo object was either initialized with repodir (if that folder exists) or set to clone a remote repository at a URL."
      ],
      "metadata": {
        "id": "wmzFUd3qsVHy"
      },
      "execution_count": 21,
      "outputs": []
    },
    {
      "cell_type": "code",
      "source": [
        "repo.working_dir\n"
      ],
      "metadata": {
        "id": "v9E_VN7Osrm6",
        "colab": {
          "base_uri": "https://localhost:8080/",
          "height": 35
        },
        "outputId": "05c048e0-8fc9-4b1d-fbe9-2c04af44482c"
      },
      "execution_count": 22,
      "outputs": [
        {
          "output_type": "execute_result",
          "data": {
            "text/plain": [
              "'/Users/Jay/tmpdir/mth271content'"
            ],
            "application/vnd.google.colaboratory.intrinsic+json": {
              "type": "string"
            }
          },
          "metadata": {},
          "execution_count": 22
        }
      ]
    }
  ]
}