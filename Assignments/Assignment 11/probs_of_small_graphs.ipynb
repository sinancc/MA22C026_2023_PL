{
  "nbformat": 4,
  "nbformat_minor": 0,
  "metadata": {
    "colab": {
      "provenance": []
    },
    "kernelspec": {
      "name": "python3",
      "display_name": "Python 3"
    },
    "language_info": {
      "name": "python"
    }
  },
  "cells": [
    {
      "cell_type": "code",
      "execution_count": 8,
      "metadata": {
        "colab": {
          "base_uri": "https://localhost:8080/"
        },
        "id": "hrUTcvgH56ip",
        "outputId": "19149897-45d7-4d91-eef8-8f8ce9d2e556"
      },
      "outputs": [
        {
          "output_type": "stream",
          "name": "stdout",
          "text": [
            "Probability of hitting state 0 from state 3: 0.2857\n",
            "Probability of hitting state 1 from state 3: 0.2857\n",
            "Probability of hitting state 2 from state 3: 0.1429\n"
          ]
        }
      ],
      "source": [
        "import numpy as np\n",
        "\n",
        "# Define the transition probability matrix P for the given Markov chain\n",
        "P = np.array([[0, 0.0, 0.5, 0.5], # S0\n",
        " [1.0, 0.0, 0.0, 0.0], # S1\n",
        "  [0.0, 0.0, 0.0, 1.0], # S2\n",
        "   [0, 1.0, 0.0, 0.0]]) #S4\n",
        "\n",
        "# Define the starting state\n",
        "starting_state = 3\n",
        "\n",
        "# Define the set of target states\n",
        "target_states = [0, 1, 2]\n",
        "\n",
        "# Create a function to calculate the probability of reaching the target_states from the starting_state\n",
        "def probability_to_reach_states(P, starting_state, target_states, steps):\n",
        "    P_n = np.linalg.matrix_power(P, steps)\n",
        "    probabilities = [P_n[starting_state, target_state] for target_state in target_states]\n",
        "    return probabilities\n",
        "\n",
        "# Calculate the probabilities of reaching the target states from the starting state in any number of steps\n",
        "probabilities = probability_to_reach_states(P, starting_state, target_states, steps=100)  # You can choose a large number of steps\n",
        "\n",
        "# Print the probabilities for each target state\n",
        "for i, target_state in enumerate(target_states):\n",
        "    print(f\"Probability of hitting state {target_state} from state {starting_state}: {probabilities[i]:.4f}\")\n"
      ]
    },
    {
      "cell_type": "code",
      "source": [
        "\n",
        "\n",
        "# Define the set of starting states\n",
        "starting_states = [0, 1, 2]\n",
        "\n",
        "# Define the target state\n",
        "target_state = 3\n",
        "\n",
        "# Create a function to calculate the probability of reaching the target state from the starting_states\n",
        "def probability_to_reach_target_state(P, starting_states, target_state, steps):\n",
        "    P_n = np.linalg.matrix_power(P, steps)\n",
        "    probabilities = [P_n[starting_state, target_state] for starting_state in starting_states]\n",
        "    return probabilities\n",
        "\n",
        "# Calculate the probabilities of hitting the target state from each starting state in B in any number of steps\n",
        "probabilities = probability_to_reach_target_state(P, starting_states, target_state, steps=100)  # You can choose a large number of steps\n",
        "\n",
        "# Print the probabilities for each starting state in B\n",
        "for i, starting_state in enumerate(starting_states):\n",
        "    print(f\"Probability of hitting state {target_state} starting from state {starting_state}: {probabilities[i]:.4f}\")\n"
      ],
      "metadata": {
        "colab": {
          "base_uri": "https://localhost:8080/"
        },
        "id": "VXcUTO_B7X_K",
        "outputId": "6006c645-8001-4b4c-dc39-fe38964ea00e"
      },
      "execution_count": 10,
      "outputs": [
        {
          "output_type": "stream",
          "name": "stdout",
          "text": [
            "Probability of hitting state 3 starting from state 0: 0.2857\n",
            "Probability of hitting state 3 starting from state 1: 0.2857\n",
            "Probability of hitting state 3 starting from state 2: 0.2857\n"
          ]
        }
      ]
    },
    {
      "cell_type": "code",
      "source": [
        "# Check if any state can reach an absorbing state\n",
        "absorbing_states = [1, 3]\n",
        "\n",
        "for state in range(len(P)):\n",
        "    can_reach_absorbing = any(P[state, absorbing_states] > 0)\n",
        "    if can_reach_absorbing:\n",
        "        print(f\"State {state} can reach an absorbing state.\")\n",
        "    else:\n",
        "        print(f\"State {state} cannot reach an absorbing state.\")\n",
        "\n",
        "# Method 2: Eigenvector Approach\n",
        "eigenvalues, eigenvectors = np.linalg.eig(P.T)\n",
        "\n",
        "# Check if there is an eigenvalue of 1\n",
        "for i, eigenvalue in enumerate(eigenvalues):\n",
        "    if np.isclose(eigenvalue, 1.0):\n",
        "        eigenvector = eigenvectors[:, i]\n",
        "        if all(eigenvector[absorbing_states] == 1) and all(eigenvector[~np.isin(range(len(P)), absorbing_states)] == 0):\n",
        "            print(\"The Markov chain is absorbing.\")\n",
        "        else:\n",
        "            print(\"The Markov chain is not absorbing.\")\n"
      ],
      "metadata": {
        "colab": {
          "base_uri": "https://localhost:8080/"
        },
        "id": "MpN9F7BF8C1t",
        "outputId": "dbb4f85c-5aa2-474a-b2ed-807b25b5daa3"
      },
      "execution_count": 12,
      "outputs": [
        {
          "output_type": "stream",
          "name": "stdout",
          "text": [
            "State 0 can reach an absorbing state.\n",
            "State 1 cannot reach an absorbing state.\n",
            "State 2 can reach an absorbing state.\n",
            "State 3 can reach an absorbing state.\n",
            "The Markov chain is not absorbing.\n"
          ]
        }
      ]
    },
    {
      "cell_type": "code",
      "source": [
        "# Ensure all states can communicate with each other\n",
        "# Add transitions from S0 to S1 and from S2 to S3\n",
        "P[0, 1] = 0.5\n",
        "P[2, 3] = 0.5\n",
        "\n",
        "# Define the set of states A = {0, 1, 2}\n",
        "A = [0, 1, 2]\n",
        "\n",
        "# Calculate the fundamental matrix N\n",
        "I = np.identity(len(P))\n",
        "N = np.linalg.inv(I - P)\n",
        "\n",
        "# Calculate the hitting probabilities of states in A from the remaining states\n",
        "hitting_probabilities = np.zeros(len(P))\n",
        "\n",
        "for state in range(len(P)):\n",
        "    if state not in A:\n",
        "        hitting_probabilities[A] += N[state, A]\n",
        "\n",
        "# Print the hitting probabilities\n",
        "for i, state in enumerate(A):\n",
        "    print(f\"Hitting probability of state {state} from the remaining states: {hitting_probabilities[i]:.4f}\")\n"
      ],
      "metadata": {
        "colab": {
          "base_uri": "https://localhost:8080/"
        },
        "id": "XbZ4u8Wv9oZB",
        "outputId": "737a6de0-585b-45bd-f23e-b0bd63e04714"
      },
      "execution_count": 14,
      "outputs": [
        {
          "output_type": "stream",
          "name": "stdout",
          "text": [
            "Hitting probability of state 0 from the remaining states: -4.0000\n",
            "Hitting probability of state 1 from the remaining states: -4.0000\n",
            "Hitting probability of state 2 from the remaining states: -2.0000\n"
          ]
        }
      ]
    },
    {
      "cell_type": "code",
      "source": [
        "\n",
        "\n",
        "# Ensure all states can communicate with each other\n",
        "# Add transitions from S0 to S1 and from S2 to S3\n",
        "P[0, 1] = 0.5\n",
        "P[2, 3] = 0.5\n",
        "\n",
        "# Define the set of states A = {3}\n",
        "A = [3]\n",
        "\n",
        "# Calculate the fundamental matrix N\n",
        "I = np.identity(len(P))\n",
        "N = np.linalg.inv(I - P)\n",
        "\n",
        "# Calculate the hitting probabilities of state 3 from the remaining states\n",
        "hitting_probabilities = np.zeros(len(A))\n",
        "\n",
        "for state in A:\n",
        "    for other_state in range(len(P)):\n",
        "        if other_state not in A:\n",
        "            hitting_probabilities[A.index(state)] += N[other_state, state]\n",
        "\n",
        "# Print the hitting probabilities\n",
        "print(f\"Hitting probability of state 3 from the remaining states: {hitting_probabilities[0]:.4f}\")\n"
      ],
      "metadata": {
        "colab": {
          "base_uri": "https://localhost:8080/"
        },
        "id": "aSdMvETo_KD_",
        "outputId": "355ac705-54e3-485a-9f0b-370229816d2f"
      },
      "execution_count": 25,
      "outputs": [
        {
          "output_type": "stream",
          "name": "stdout",
          "text": [
            "Hitting probability of state 3 from the remaining states: -7.0000\n"
          ]
        }
      ]
    }
  ]
}