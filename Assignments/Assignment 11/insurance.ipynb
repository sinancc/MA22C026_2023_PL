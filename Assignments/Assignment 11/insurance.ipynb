{
  "cells": [
    {
      "cell_type": "code",
      "execution_count": 1,
      "metadata": {
        "id": "6ZqigxkZSpGl"
      },
      "outputs": [],
      "source": [
        "from random import uniform\n",
        "import numpy as np\n",
        "\n",
        "def insurance_ruin(init=1000, p=0.46, win=100):\n",
        "    P = np.zeros(init+1)  # mark win or lose here for each gamble i\n",
        "    P[0]=1\n",
        "    for i in range(1,init+1):\n",
        "      P[i] = (1-p) * P[min(i + win, init)] + p * P[max(i - 2*win, 0)]\n",
        "    return P[init]"
      ]
    },
    {
      "cell_type": "code",
      "source": [
        "insurance_ruin()"
      ],
      "metadata": {
        "colab": {
          "base_uri": "https://localhost:8080/"
        },
        "id": "rt61qBNmG6Ez",
        "outputId": "0a199177-bc41-4b26-b987-76ddea01aa6f"
      },
      "execution_count": 2,
      "outputs": [
        {
          "output_type": "execute_result",
          "data": {
            "text/plain": [
              "0.020596297600000004"
            ]
          },
          "metadata": {},
          "execution_count": 2
        }
      ]
    },
    {
      "cell_type": "code",
      "execution_count": 3,
      "metadata": {
        "id": "ow87MG2NXlT-",
        "colab": {
          "base_uri": "https://localhost:8080/"
        },
        "outputId": "a781cd62-9d3b-44f5-e854-fbcc4e09c541"
      },
      "outputs": [
        {
          "output_type": "stream",
          "name": "stdout",
          "text": [
            "Probability of ruin: 0.02060\n"
          ]
        }
      ],
      "source": [
        "print(f\"Probability of ruin: {insurance_ruin():.5f}\")"
      ]
    },
    {
      "cell_type": "code",
      "source": [
        "insurance_ruin(init=1590)"
      ],
      "metadata": {
        "colab": {
          "base_uri": "https://localhost:8080/"
        },
        "id": "ujPx2xH8K-e7",
        "outputId": "6fb841d4-f205-482b-cbbc-1c267f2c2366"
      },
      "execution_count": 15,
      "outputs": [
        {
          "output_type": "execute_result",
          "data": {
            "text/plain": [
              "0.0020047612231936006"
            ]
          },
          "metadata": {},
          "execution_count": 15
        }
      ]
    },
    {
      "cell_type": "code",
      "source": [
        "i=1590\n",
        "while insurance_ruin(init=i)>0.001:\n",
        "  i=i+1\n",
        "print(\"Minimum capital required for making probablity of ruin <0.1%=\",i)"
      ],
      "metadata": {
        "colab": {
          "base_uri": "https://localhost:8080/"
        },
        "id": "OLMYJwrg4rF8",
        "outputId": "4f0d2ad1-6be0-4fa9-9de1-89dbd4ba54e7"
      },
      "execution_count": 13,
      "outputs": [
        {
          "output_type": "stream",
          "name": "stdout",
          "text": [
            "Minimum capital required for making probablity of ruin <0.1%= 1601\n"
          ]
        }
      ]
    },
    {
      "cell_type": "code",
      "source": [
        "insurance_ruin(1600)"
      ],
      "metadata": {
        "colab": {
          "base_uri": "https://localhost:8080/"
        },
        "id": "-obSJsIS4Z7A",
        "outputId": "334bdbbe-d8cf-4f6b-9213-5cabbf4383f3"
      },
      "execution_count": 9,
      "outputs": [
        {
          "output_type": "execute_result",
          "data": {
            "text/plain": [
              "0.0020047612231936006"
            ]
          },
          "metadata": {},
          "execution_count": 9
        }
      ]
    },
    {
      "cell_type": "code",
      "source": [
        "insurance_ruin(1601)"
      ],
      "metadata": {
        "colab": {
          "base_uri": "https://localhost:8080/"
        },
        "id": "qQXCMt0JV8Pf",
        "outputId": "34ef0151-38c3-4b40-c407-9c6264892eb7"
      },
      "execution_count": 11,
      "outputs": [
        {
          "output_type": "execute_result",
          "data": {
            "text/plain": [
              "0.0009221901626690563"
            ]
          },
          "metadata": {},
          "execution_count": 11
        }
      ]
    }
  ],
  "metadata": {
    "colab": {
      "provenance": []
    },
    "kernelspec": {
      "display_name": "Python 3",
      "name": "python3"
    },
    "language_info": {
      "name": "python"
    }
  },
  "nbformat": 4,
  "nbformat_minor": 0
}