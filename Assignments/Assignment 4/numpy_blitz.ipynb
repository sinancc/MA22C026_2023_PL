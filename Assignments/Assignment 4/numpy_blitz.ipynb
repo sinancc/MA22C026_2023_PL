{
  "nbformat": 4,
  "nbformat_minor": 0,
  "metadata": {
    "colab": {
      "provenance": [],
      "authorship_tag": "ABX9TyMQC/rby3GF4swfVvUavVo9",
      "include_colab_link": true
    },
    "kernelspec": {
      "name": "python3",
      "display_name": "Python 3"
    },
    "language_info": {
      "name": "python"
    }
  },
  "cells": [
    {
      "cell_type": "markdown",
      "metadata": {
        "id": "view-in-github",
        "colab_type": "text"
      },
      "source": [
        "<a href=\"https://colab.research.google.com/github/sinancc/MA22C026_2023_PL/blob/main/Assignments/Assignment%204/numpy_blitz.ipynb\" target=\"_parent\"><img src=\"https://colab.research.google.com/assets/colab-badge.svg\" alt=\"Open In Colab\"/></a>"
      ]
    },
    {
      "cell_type": "markdown",
      "source": [
        "#Array vs List"
      ],
      "metadata": {
        "id": "Y5IGdCwcuZ4I"
      }
    },
    {
      "cell_type": "code",
      "execution_count": 77,
      "metadata": {
        "id": "nqCQqpz3GlCm"
      },
      "outputs": [],
      "source": [
        "import numpy as np\n",
        "import math"
      ]
    },
    {
      "cell_type": "code",
      "source": [
        "A = [0.1, 1.3, 0.4, 0.5] # list\n",
        "a = np.array(A) # numpy array\n",
        "type(a), type(A)"
      ],
      "metadata": {
        "colab": {
          "base_uri": "https://localhost:8080/"
        },
        "id": "e8-ttDEvGlxl",
        "outputId": "b205264a-dc00-40a5-d24c-dd99fb1f686d"
      },
      "execution_count": 78,
      "outputs": [
        {
          "output_type": "execute_result",
          "data": {
            "text/plain": [
              "(numpy.ndarray, list)"
            ]
          },
          "metadata": {},
          "execution_count": 78
        }
      ]
    },
    {
      "cell_type": "code",
      "source": [
        "a.dtype # a's common element type (A.dtype is undefined!)"
      ],
      "metadata": {
        "colab": {
          "base_uri": "https://localhost:8080/"
        },
        "id": "kuH37TIeGszZ",
        "outputId": "38cdd30d-1869-45d2-ec0f-555d914993ec"
      },
      "execution_count": 79,
      "outputs": [
        {
          "output_type": "execute_result",
          "data": {
            "text/plain": [
              "dtype('float64')"
            ]
          },
          "metadata": {},
          "execution_count": 79
        }
      ]
    },
    {
      "cell_type": "code",
      "source": [
        "2*a #Multiplication happen inside array"
      ],
      "metadata": {
        "colab": {
          "base_uri": "https://localhost:8080/"
        },
        "id": "YjWJKiMnGwt9",
        "outputId": "cc255d8a-7960-4610-a85f-5f81237a786e"
      },
      "execution_count": 80,
      "outputs": [
        {
          "output_type": "execute_result",
          "data": {
            "text/plain": [
              "array([0.2, 2.6, 0.8, 1. ])"
            ]
          },
          "metadata": {},
          "execution_count": 80
        }
      ]
    },
    {
      "cell_type": "code",
      "source": [
        "2*A #making another copy of elements for lists"
      ],
      "metadata": {
        "colab": {
          "base_uri": "https://localhost:8080/"
        },
        "id": "2XR_q9eFGyvg",
        "outputId": "d3d1b40c-2f25-48ff-fd8c-5078a9c1b476"
      },
      "execution_count": 81,
      "outputs": [
        {
          "output_type": "execute_result",
          "data": {
            "text/plain": [
              "[0.1, 1.3, 0.4, 0.5, 0.1, 1.3, 0.4, 0.5]"
            ]
          },
          "metadata": {},
          "execution_count": 81
        }
      ]
    },
    {
      "cell_type": "code",
      "source": [
        "n = 100000\n",
        "x = np.linspace(0, 2*np.pi, n)"
      ],
      "metadata": {
        "id": "xXcR7voOG14I"
      },
      "execution_count": 82,
      "outputs": []
    },
    {
      "cell_type": "code",
      "source": [
        "# list comprehension\n",
        "%timeit y = [math.sin(x[i]) * math.exp(-x[i]) for i in range(n)]\n",
        "# use numpy ufuncs\n",
        "%timeit y = np.sin(x) * np.exp(-x)\n"
      ],
      "metadata": {
        "colab": {
          "base_uri": "https://localhost:8080/"
        },
        "id": "RQtZ_XBCG5op",
        "outputId": "303c5da9-d1b9-4b65-fa42-4502caa0463e"
      },
      "execution_count": 83,
      "outputs": [
        {
          "output_type": "stream",
          "name": "stdout",
          "text": [
            "57.5 ms ± 6.04 ms per loop (mean ± std. dev. of 7 runs, 10 loops each)\n",
            "6.57 ms ± 2.34 ms per loop (mean ± std. dev. of 7 runs, 100 loops each)\n"
          ]
        }
      ]
    },
    {
      "cell_type": "markdown",
      "source": [
        "we can see that numpy's ufuncs are relatively faster"
      ],
      "metadata": {
        "id": "Unn6yTMdvJy0"
      }
    },
    {
      "cell_type": "markdown",
      "source": [
        "#vectorization"
      ],
      "metadata": {
        "id": "4sTtsZhUD6Gg"
      }
    },
    {
      "cell_type": "code",
      "source": [
        "def f(v): # apply f to one scalar value v\n",
        "  return math.sin(v) * math.exp(-v)\n"
      ],
      "metadata": {
        "id": "ZrVeX1UuHBUG"
      },
      "execution_count": 84,
      "outputs": []
    },
    {
      "cell_type": "code",
      "source": [
        "vectorizedf = map(f, x) # apply same f to a vector of values x"
      ],
      "metadata": {
        "id": "Yc2AePRiHJzQ"
      },
      "execution_count": 85,
      "outputs": []
    },
    {
      "cell_type": "code",
      "source": [
        "F = np.vectorize(f) # F can be applied to a array x\n"
      ],
      "metadata": {
        "id": "B6FiDtU_HSlv"
      },
      "execution_count": 86,
      "outputs": []
    },
    {
      "cell_type": "code",
      "source": [
        "# use map\n",
        "%timeit y = list(map(f, x))\n",
        "# use numpy's vectorize\n",
        "%timeit y = F(x)\n",
        "# use numpy's ufunc\n",
        "%timeit y = np.sin(x) * np.exp(-x)"
      ],
      "metadata": {
        "colab": {
          "base_uri": "https://localhost:8080/"
        },
        "id": "pcq_uY2oHVF_",
        "outputId": "f2cfb165-6936-4aac-bb07-1493383211ff"
      },
      "execution_count": 87,
      "outputs": [
        {
          "output_type": "stream",
          "name": "stdout",
          "text": [
            "55.8 ms ± 30.3 ms per loop (mean ± std. dev. of 7 runs, 10 loops each)\n",
            "36.2 ms ± 705 µs per loop (mean ± std. dev. of 7 runs, 10 loops each)\n",
            "4.31 ms ± 697 µs per loop (mean ± std. dev. of 7 runs, 100 loops each)\n"
          ]
        }
      ]
    },
    {
      "cell_type": "code",
      "source": [
        "%timeit for x in range(1000000): x**3\n",
        "%timeit for x in np.arange(1000000): x**3"
      ],
      "metadata": {
        "colab": {
          "base_uri": "https://localhost:8080/"
        },
        "id": "J0mCd0EiHbWo",
        "outputId": "37981237-f58b-4f36-fa3a-2517476cf908"
      },
      "execution_count": 88,
      "outputs": [
        {
          "output_type": "stream",
          "name": "stdout",
          "text": [
            "349 ms ± 25.2 ms per loop (mean ± std. dev. of 7 runs, 1 loop each)\n",
            "148 ms ± 32.8 ms per loop (mean ± std. dev. of 7 runs, 1 loop each)\n"
          ]
        }
      ]
    },
    {
      "cell_type": "code",
      "source": [
        "a = np.random.randint(0,9,5) #generating a 5 elemented random arrays  from set mentioned\n",
        "a"
      ],
      "metadata": {
        "id": "rOoPup2PHf-S",
        "colab": {
          "base_uri": "https://localhost:8080/"
        },
        "outputId": "da81fa2b-81fb-49aa-817b-0317dffae190"
      },
      "execution_count": 89,
      "outputs": [
        {
          "output_type": "execute_result",
          "data": {
            "text/plain": [
              "array([0, 7, 0, 6, 7])"
            ]
          },
          "metadata": {},
          "execution_count": 89
        }
      ]
    },
    {
      "cell_type": "code",
      "source": [
        "a[::] #whole array"
      ],
      "metadata": {
        "id": "nOuumuXfHiJC",
        "colab": {
          "base_uri": "https://localhost:8080/"
        },
        "outputId": "37ffa894-c90c-4800-f88d-0b5c6e17f7d6"
      },
      "execution_count": 90,
      "outputs": [
        {
          "output_type": "execute_result",
          "data": {
            "text/plain": [
              "array([0, 7, 0, 6, 7])"
            ]
          },
          "metadata": {},
          "execution_count": 90
        }
      ]
    },
    {
      "cell_type": "code",
      "source": [
        "a[-3:] #last 3 elemments"
      ],
      "metadata": {
        "id": "uCA6b7FTHl2B",
        "colab": {
          "base_uri": "https://localhost:8080/"
        },
        "outputId": "343ff4a1-3292-476d-ce80-854c352529ef"
      },
      "execution_count": 91,
      "outputs": [
        {
          "output_type": "execute_result",
          "data": {
            "text/plain": [
              "array([0, 6, 7])"
            ]
          },
          "metadata": {},
          "execution_count": 91
        }
      ]
    },
    {
      "cell_type": "code",
      "source": [
        "a[-1], a[len(a)-1] #both denotes last element in array"
      ],
      "metadata": {
        "id": "o8yKhnFpHnXb",
        "colab": {
          "base_uri": "https://localhost:8080/"
        },
        "outputId": "752acf88-fa00-40f2-b435-bb068dd6492d"
      },
      "execution_count": 92,
      "outputs": [
        {
          "output_type": "execute_result",
          "data": {
            "text/plain": [
              "(7, 7)"
            ]
          },
          "metadata": {},
          "execution_count": 92
        }
      ]
    },
    {
      "cell_type": "code",
      "source": [
        "a[-4:-1:2] #4th last to last with gap of 2"
      ],
      "metadata": {
        "id": "9EvoHkB4HpSQ",
        "colab": {
          "base_uri": "https://localhost:8080/"
        },
        "outputId": "f2c91e71-aef0-446b-bf88-633ef2183f76"
      },
      "execution_count": 93,
      "outputs": [
        {
          "output_type": "execute_result",
          "data": {
            "text/plain": [
              "array([7, 6])"
            ]
          },
          "metadata": {},
          "execution_count": 93
        }
      ]
    },
    {
      "cell_type": "code",
      "source": [
        "slice = range(-4,-1,2)\n",
        "# Think of b:e:s specification as a range.\n",
        "a[-4:-1:2], a[slice]"
      ],
      "metadata": {
        "id": "UjxrxOSwHrFG",
        "colab": {
          "base_uri": "https://localhost:8080/"
        },
        "outputId": "558f5156-401a-4d68-8938-3f439e113ca6"
      },
      "execution_count": 94,
      "outputs": [
        {
          "output_type": "execute_result",
          "data": {
            "text/plain": [
              "(array([7, 6]), array([7, 6]))"
            ]
          },
          "metadata": {},
          "execution_count": 94
        }
      ]
    },
    {
      "cell_type": "code",
      "source": [
        "a = np.array([1,2,3])\n",
        "b = np.array([3,4,5,6])"
      ],
      "metadata": {
        "id": "rGBhNSXNH0lC"
      },
      "execution_count": 95,
      "outputs": []
    },
    {
      "cell_type": "code",
      "source": [
        "a = b #a changes into b\n",
        "a[0] = 1 #first element is made 1\n",
        "a"
      ],
      "metadata": {
        "id": "YLZ-yDH6H20B",
        "colab": {
          "base_uri": "https://localhost:8080/"
        },
        "outputId": "cccd8fe4-aeef-4189-814f-3fa403515f1b"
      },
      "execution_count": 96,
      "outputs": [
        {
          "output_type": "execute_result",
          "data": {
            "text/plain": [
              "array([1, 4, 5, 6])"
            ]
          },
          "metadata": {},
          "execution_count": 96
        }
      ]
    },
    {
      "cell_type": "code",
      "source": [
        "b #we didn't change b"
      ],
      "metadata": {
        "id": "ls2fXKZAH-NK",
        "colab": {
          "base_uri": "https://localhost:8080/"
        },
        "outputId": "0ef1282c-3713-4c92-897e-2d266dddf38a"
      },
      "execution_count": 97,
      "outputs": [
        {
          "output_type": "execute_result",
          "data": {
            "text/plain": [
              "array([1, 4, 5, 6])"
            ]
          },
          "metadata": {},
          "execution_count": 97
        }
      ]
    },
    {
      "cell_type": "code",
      "source": [
        "a = np.array([1,2,3]) # This is Object1 and \"a\" is a name for it.\n",
        "b = np.array([3,4,5,6]) # This is Object2 and \"b\" is a name for it."
      ],
      "metadata": {
        "id": "Zth5XBjnH_Zt"
      },
      "execution_count": 98,
      "outputs": []
    },
    {
      "cell_type": "code",
      "source": [
        "id(a), id(b)\n",
        "#id denotes how its stored"
      ],
      "metadata": {
        "id": "tD4_-7KZIBzP",
        "colab": {
          "base_uri": "https://localhost:8080/"
        },
        "outputId": "c9ba6b0d-205e-4807-891b-bef1be9d3e64"
      },
      "execution_count": 99,
      "outputs": [
        {
          "output_type": "execute_result",
          "data": {
            "text/plain": [
              "(137828131991888, 137828131992752)"
            ]
          },
          "metadata": {},
          "execution_count": 99
        }
      ]
    },
    {
      "cell_type": "code",
      "source": [
        "a = b # a is no longer a name for Object1, it is now a name for Object2."
      ],
      "metadata": {
        "id": "3NISvt9pIEhi"
      },
      "execution_count": 100,
      "outputs": []
    },
    {
      "cell_type": "code",
      "source": [
        "id(a), id(b)"
      ],
      "metadata": {
        "id": "0VRSBJZaIII8",
        "colab": {
          "base_uri": "https://localhost:8080/"
        },
        "outputId": "45e1cb65-86d3-45bc-8b6f-4d1c4f1f874d"
      },
      "execution_count": 101,
      "outputs": [
        {
          "output_type": "execute_result",
          "data": {
            "text/plain": [
              "(137828131992752, 137828131992752)"
            ]
          },
          "metadata": {},
          "execution_count": 101
        }
      ]
    },
    {
      "cell_type": "code",
      "source": [
        "a = np.array([1,2,3]) # Object1\n",
        "b = np.array([3,4,5,6]) # Object2\n",
        "a = b.copy() # Copies Object2, and binds a to the copy\n",
        "a[0] = 2 # Only the copied (new) object is changed"
      ],
      "metadata": {
        "id": "9_mlZzJ2IJre"
      },
      "execution_count": 102,
      "outputs": []
    },
    {
      "cell_type": "code",
      "source": [
        "a,b"
      ],
      "metadata": {
        "id": "8OPp3N9TIQgI",
        "colab": {
          "base_uri": "https://localhost:8080/"
        },
        "outputId": "c5d7edf2-188b-41d0-9e1b-2375cfaab6b2"
      },
      "execution_count": 103,
      "outputs": [
        {
          "output_type": "execute_result",
          "data": {
            "text/plain": [
              "(array([2, 4, 5, 6]), array([3, 4, 5, 6]))"
            ]
          },
          "metadata": {},
          "execution_count": 103
        }
      ]
    },
    {
      "cell_type": "code",
      "source": [
        "Amat = [[1,2], [3,4]]\n",
        "Amat"
      ],
      "metadata": {
        "id": "8lpwjE_TIRsP",
        "colab": {
          "base_uri": "https://localhost:8080/"
        },
        "outputId": "38e0e783-4ca0-4d98-e489-ff367b6c3f46"
      },
      "execution_count": 104,
      "outputs": [
        {
          "output_type": "execute_result",
          "data": {
            "text/plain": [
              "[[1, 2], [3, 4]]"
            ]
          },
          "metadata": {},
          "execution_count": 104
        }
      ]
    },
    {
      "cell_type": "code",
      "source": [
        "amat = np.array(Amat)\n",
        "amat #numpy array"
      ],
      "metadata": {
        "id": "qb6ZAG4PIUfO",
        "colab": {
          "base_uri": "https://localhost:8080/"
        },
        "outputId": "8ce74613-f224-4677-c157-23cad1b80a68"
      },
      "execution_count": 105,
      "outputs": [
        {
          "output_type": "execute_result",
          "data": {
            "text/plain": [
              "array([[1, 2],\n",
              "       [3, 4]])"
            ]
          },
          "metadata": {},
          "execution_count": 105
        }
      ]
    },
    {
      "cell_type": "code",
      "source": [
        "type(A), type(a)"
      ],
      "metadata": {
        "id": "yoo2QETsIYX_",
        "colab": {
          "base_uri": "https://localhost:8080/"
        },
        "outputId": "403ae7da-c1c3-4998-d6c1-18ca13b40ad5"
      },
      "execution_count": 106,
      "outputs": [
        {
          "output_type": "execute_result",
          "data": {
            "text/plain": [
              "(list, numpy.ndarray)"
            ]
          },
          "metadata": {},
          "execution_count": 106
        }
      ]
    },
    {
      "cell_type": "code",
      "source": [
        "2*Amat"
      ],
      "metadata": {
        "id": "f0Qe-LeNIaH1",
        "colab": {
          "base_uri": "https://localhost:8080/"
        },
        "outputId": "4a9c199b-9cc6-4b09-a7ce-9ca073831abc"
      },
      "execution_count": 107,
      "outputs": [
        {
          "output_type": "execute_result",
          "data": {
            "text/plain": [
              "[[1, 2], [3, 4], [1, 2], [3, 4]]"
            ]
          },
          "metadata": {},
          "execution_count": 107
        }
      ]
    },
    {
      "cell_type": "code",
      "source": [
        "2*amat"
      ],
      "metadata": {
        "id": "nnibGZk_IbvL",
        "colab": {
          "base_uri": "https://localhost:8080/"
        },
        "outputId": "5d0104b3-9df6-4d9a-e43b-094f1c910c05"
      },
      "execution_count": 108,
      "outputs": [
        {
          "output_type": "execute_result",
          "data": {
            "text/plain": [
              "array([[2, 4],\n",
              "       [6, 8]])"
            ]
          },
          "metadata": {},
          "execution_count": 108
        }
      ]
    },
    {
      "cell_type": "code",
      "source": [
        "amat"
      ],
      "metadata": {
        "id": "5o37ajmcIdPf",
        "colab": {
          "base_uri": "https://localhost:8080/"
        },
        "outputId": "6422d5e4-619b-4a00-81b9-57e57fc0fc7f"
      },
      "execution_count": 109,
      "outputs": [
        {
          "output_type": "execute_result",
          "data": {
            "text/plain": [
              "array([[1, 2],\n",
              "       [3, 4]])"
            ]
          },
          "metadata": {},
          "execution_count": 109
        }
      ]
    },
    {
      "cell_type": "code",
      "source": [
        "amat*amat\n",
        "#elementwise multiplication"
      ],
      "metadata": {
        "id": "inEplAF5Ieob",
        "colab": {
          "base_uri": "https://localhost:8080/"
        },
        "outputId": "c34b7684-491f-4f72-ea0f-38e0652cfc37"
      },
      "execution_count": 110,
      "outputs": [
        {
          "output_type": "execute_result",
          "data": {
            "text/plain": [
              "array([[ 1,  4],\n",
              "       [ 9, 16]])"
            ]
          },
          "metadata": {},
          "execution_count": 110
        }
      ]
    },
    {
      "cell_type": "code",
      "source": [
        "import sys\n",
        "print(sys.version) # check if you have version >= 3.5 before trying @"
      ],
      "metadata": {
        "id": "HmaQDzlDIgGp",
        "colab": {
          "base_uri": "https://localhost:8080/"
        },
        "outputId": "a507d548-ce3f-495d-a56f-229512dfdae2"
      },
      "execution_count": 111,
      "outputs": [
        {
          "output_type": "stream",
          "name": "stdout",
          "text": [
            "3.10.12 (main, Jun 11 2023, 05:26:28) [GCC 11.4.0]\n"
          ]
        }
      ]
    },
    {
      "cell_type": "code",
      "source": [
        "amat @ amat #matrix multiplication"
      ],
      "metadata": {
        "id": "lj5ph4qMIicz",
        "colab": {
          "base_uri": "https://localhost:8080/"
        },
        "outputId": "34c81edf-2c19-425a-a537-bfbf003e1696"
      },
      "execution_count": 112,
      "outputs": [
        {
          "output_type": "execute_result",
          "data": {
            "text/plain": [
              "array([[ 7, 10],\n",
              "       [15, 22]])"
            ]
          },
          "metadata": {},
          "execution_count": 112
        }
      ]
    },
    {
      "cell_type": "code",
      "source": [
        "np.dot(amat, amat) # dot(A,B) = matrix A multiplied by matrix B"
      ],
      "metadata": {
        "id": "obx2vX60ItCU",
        "colab": {
          "base_uri": "https://localhost:8080/"
        },
        "outputId": "fc4366bd-133b-41b9-da03-f0c4aad1f19f"
      },
      "execution_count": 113,
      "outputs": [
        {
          "output_type": "execute_result",
          "data": {
            "text/plain": [
              "array([[ 7, 10],\n",
              "       [15, 22]])"
            ]
          },
          "metadata": {},
          "execution_count": 113
        }
      ]
    },
    {
      "cell_type": "code",
      "source": [
        "amat.dot(amat)"
      ],
      "metadata": {
        "id": "derldRqcIvJc",
        "colab": {
          "base_uri": "https://localhost:8080/"
        },
        "outputId": "de8690cd-2aa3-436b-8d3f-3e957b22445a"
      },
      "execution_count": 114,
      "outputs": [
        {
          "output_type": "execute_result",
          "data": {
            "text/plain": [
              "array([[ 7, 10],\n",
              "       [15, 22]])"
            ]
          },
          "metadata": {},
          "execution_count": 114
        }
      ]
    },
    {
      "cell_type": "code",
      "source": [
        "amat**2 # not equal to matrix power !!"
      ],
      "metadata": {
        "id": "3Go0eW7uIw2L",
        "colab": {
          "base_uri": "https://localhost:8080/"
        },
        "outputId": "5db2dfcf-decc-4e79-908d-350ef9e4f1af"
      },
      "execution_count": 115,
      "outputs": [
        {
          "output_type": "execute_result",
          "data": {
            "text/plain": [
              "array([[ 1,  4],\n",
              "       [ 9, 16]])"
            ]
          },
          "metadata": {},
          "execution_count": 115
        }
      ]
    },
    {
      "cell_type": "code",
      "source": [
        "np.linalg.matrix_power(amat, 2)"
      ],
      "metadata": {
        "id": "hLzi6QlwIz2w",
        "colab": {
          "base_uri": "https://localhost:8080/"
        },
        "outputId": "a91ba347-652e-44eb-d2a0-71d73ffc18f1"
      },
      "execution_count": 116,
      "outputs": [
        {
          "output_type": "execute_result",
          "data": {
            "text/plain": [
              "array([[ 7, 10],\n",
              "       [15, 22]])"
            ]
          },
          "metadata": {},
          "execution_count": 116
        }
      ]
    },
    {
      "cell_type": "code",
      "source": [
        "A = np.array([[7, 8, 5, 1], [2, 5, 5, 2], [9, 6, 8, 9]])\n",
        "A"
      ],
      "metadata": {
        "id": "PkHD0SqFI2eG",
        "colab": {
          "base_uri": "https://localhost:8080/"
        },
        "outputId": "cb01c0af-2a62-490b-c037-067ba8684a94"
      },
      "execution_count": 117,
      "outputs": [
        {
          "output_type": "execute_result",
          "data": {
            "text/plain": [
              "array([[7, 8, 5, 1],\n",
              "       [2, 5, 5, 2],\n",
              "       [9, 6, 8, 9]])"
            ]
          },
          "metadata": {},
          "execution_count": 117
        }
      ]
    },
    {
      "cell_type": "code",
      "source": [
        "A[1, :], A[:, 2]"
      ],
      "metadata": {
        "id": "gFrQJG8QI8QX",
        "colab": {
          "base_uri": "https://localhost:8080/"
        },
        "outputId": "9035a979-d057-4254-d664-8ae462700f4c"
      },
      "execution_count": 118,
      "outputs": [
        {
          "output_type": "execute_result",
          "data": {
            "text/plain": [
              "(array([2, 5, 5, 2]), array([5, 5, 8]))"
            ]
          },
          "metadata": {},
          "execution_count": 118
        }
      ]
    },
    {
      "cell_type": "code",
      "source": [
        "A[:3:2, :3]"
      ],
      "metadata": {
        "id": "vl2mI_AHI8qh",
        "colab": {
          "base_uri": "https://localhost:8080/"
        },
        "outputId": "11513906-3977-4e4f-aeb8-cfc37c9920f0"
      },
      "execution_count": 119,
      "outputs": [
        {
          "output_type": "execute_result",
          "data": {
            "text/plain": [
              "array([[7, 8, 5],\n",
              "       [9, 6, 8]])"
            ]
          },
          "metadata": {},
          "execution_count": 119
        }
      ]
    },
    {
      "cell_type": "code",
      "source": [
        "M = np.array([[7, 8, 5, 1], [2, 5, 5, 2], [9, 6, 8, 9]])\n",
        "M"
      ],
      "metadata": {
        "id": "lV0rwiL-I-Uh",
        "colab": {
          "base_uri": "https://localhost:8080/"
        },
        "outputId": "04014490-3d62-4663-b55b-3744b9e208b0"
      },
      "execution_count": 120,
      "outputs": [
        {
          "output_type": "execute_result",
          "data": {
            "text/plain": [
              "array([[7, 8, 5, 1],\n",
              "       [2, 5, 5, 2],\n",
              "       [9, 6, 8, 9]])"
            ]
          },
          "metadata": {},
          "execution_count": 120
        }
      ]
    },
    {
      "cell_type": "code",
      "source": [
        "M.reshape(2, 6) # Just a different view of the same data"
      ],
      "metadata": {
        "id": "J_YJ6oXsJC4e",
        "colab": {
          "base_uri": "https://localhost:8080/"
        },
        "outputId": "94c3eb66-f6e5-462c-b471-4d326239fbc5"
      },
      "execution_count": 121,
      "outputs": [
        {
          "output_type": "execute_result",
          "data": {
            "text/plain": [
              "array([[7, 8, 5, 1, 2, 5],\n",
              "       [5, 2, 9, 6, 8, 9]])"
            ]
          },
          "metadata": {},
          "execution_count": 121
        }
      ]
    },
    {
      "cell_type": "code",
      "source": [
        "M.ravel() # The 1D data of M in row-major ordering"
      ],
      "metadata": {
        "id": "ysGrvRgcJFC8",
        "colab": {
          "base_uri": "https://localhost:8080/"
        },
        "outputId": "d080fcaf-8605-44ec-8e88-cd3dd29422ed"
      },
      "execution_count": 122,
      "outputs": [
        {
          "output_type": "execute_result",
          "data": {
            "text/plain": [
              "array([7, 8, 5, 1, 2, 5, 5, 2, 9, 6, 8, 9])"
            ]
          },
          "metadata": {},
          "execution_count": 122
        }
      ]
    },
    {
      "cell_type": "code",
      "source": [
        "A = np.array(M, order='F')\n",
        "A"
      ],
      "metadata": {
        "id": "so9Tt1pXJHEC",
        "colab": {
          "base_uri": "https://localhost:8080/"
        },
        "outputId": "2049af20-42da-4910-b369-c9997517e57a"
      },
      "execution_count": 123,
      "outputs": [
        {
          "output_type": "execute_result",
          "data": {
            "text/plain": [
              "array([[7, 8, 5, 1],\n",
              "       [2, 5, 5, 2],\n",
              "       [9, 6, 8, 9]])"
            ]
          },
          "metadata": {},
          "execution_count": 123
        }
      ]
    },
    {
      "cell_type": "code",
      "source": [
        "A.ravel(order='A') # A's internal ordering is Fortran style"
      ],
      "metadata": {
        "id": "3He3xZMRJJPr",
        "colab": {
          "base_uri": "https://localhost:8080/"
        },
        "outputId": "b59c0b67-3e47-4534-dd02-526845a9291b"
      },
      "execution_count": 124,
      "outputs": [
        {
          "output_type": "execute_result",
          "data": {
            "text/plain": [
              "array([7, 2, 9, 8, 5, 6, 5, 5, 8, 1, 2, 9])"
            ]
          },
          "metadata": {},
          "execution_count": 124
        }
      ]
    },
    {
      "cell_type": "code",
      "source": [
        "M.ravel(order='A') # M's internal ordering is default C-style"
      ],
      "metadata": {
        "id": "6tlXYh3TJLlW",
        "colab": {
          "base_uri": "https://localhost:8080/"
        },
        "outputId": "81bccf32-6b0b-4499-c52d-d4ee364e4735"
      },
      "execution_count": 125,
      "outputs": [
        {
          "output_type": "execute_result",
          "data": {
            "text/plain": [
              "array([7, 8, 5, 1, 2, 5, 5, 2, 9, 6, 8, 9])"
            ]
          },
          "metadata": {},
          "execution_count": 125
        }
      ]
    },
    {
      "cell_type": "code",
      "source": [
        "N = np.arange(25).reshape(5,5) #reshaping to 5*5\n",
        "N"
      ],
      "metadata": {
        "id": "Mu7Vv-ggJNNt",
        "colab": {
          "base_uri": "https://localhost:8080/"
        },
        "outputId": "2b7483fd-90bc-40c1-be6e-9dc28501f8f9"
      },
      "execution_count": 126,
      "outputs": [
        {
          "output_type": "execute_result",
          "data": {
            "text/plain": [
              "array([[ 0,  1,  2,  3,  4],\n",
              "       [ 5,  6,  7,  8,  9],\n",
              "       [10, 11, 12, 13, 14],\n",
              "       [15, 16, 17, 18, 19],\n",
              "       [20, 21, 22, 23, 24]])"
            ]
          },
          "metadata": {},
          "execution_count": 126
        }
      ]
    },
    {
      "cell_type": "code",
      "source": [
        "mask = (N>7) & (N<18) # validating condition that entry >7 and <18\n",
        "mask"
      ],
      "metadata": {
        "id": "APL6QlLeJPik",
        "colab": {
          "base_uri": "https://localhost:8080/"
        },
        "outputId": "75f7607b-87e8-4349-f4c9-4b85d3741e1a"
      },
      "execution_count": 127,
      "outputs": [
        {
          "output_type": "execute_result",
          "data": {
            "text/plain": [
              "array([[False, False, False, False, False],\n",
              "       [False, False, False,  True,  True],\n",
              "       [ True,  True,  True,  True,  True],\n",
              "       [ True,  True,  True, False, False],\n",
              "       [False, False, False, False, False]])"
            ]
          },
          "metadata": {},
          "execution_count": 127
        }
      ]
    },
    {
      "cell_type": "code",
      "source": [
        "N[mask] #sorting masked elements"
      ],
      "metadata": {
        "id": "aXzC6elLJTKX",
        "colab": {
          "base_uri": "https://localhost:8080/"
        },
        "outputId": "866e9d51-e26c-4b3e-ac9d-ad3737ca3799"
      },
      "execution_count": 128,
      "outputs": [
        {
          "output_type": "execute_result",
          "data": {
            "text/plain": [
              "array([ 8,  9, 10, 11, 12, 13, 14, 15, 16, 17])"
            ]
          },
          "metadata": {},
          "execution_count": 128
        }
      ]
    },
    {
      "cell_type": "code",
      "source": [
        "i, j = np.where(mask) # Returns i and j indices where mask[i,j] is True.\n",
        "i, j # 1st True value of mask is at i[0],j[0], # 2nd True value of mask is at i[1],j[1], etc."
      ],
      "metadata": {
        "id": "d2OH_Z_9JUsO",
        "colab": {
          "base_uri": "https://localhost:8080/"
        },
        "outputId": "f8b4ea68-8354-47b7-c2b1-08a421c1a766"
      },
      "execution_count": 129,
      "outputs": [
        {
          "output_type": "execute_result",
          "data": {
            "text/plain": [
              "(array([1, 1, 2, 2, 2, 2, 2, 3, 3, 3]), array([3, 4, 0, 1, 2, 3, 4, 0, 1, 2]))"
            ]
          },
          "metadata": {},
          "execution_count": 129
        }
      ]
    },
    {
      "cell_type": "code",
      "source": [
        "data = np.random.randint(low=0, high=10, size=30) # 1D array"
      ],
      "metadata": {
        "id": "tYhyW11zJXii"
      },
      "execution_count": 130,
      "outputs": []
    },
    {
      "cell_type": "code",
      "source": [
        "T2 = np.reshape(data, (6, 5)) # 2D array\n",
        "T2"
      ],
      "metadata": {
        "id": "aA0dvPmbJZlh",
        "colab": {
          "base_uri": "https://localhost:8080/"
        },
        "outputId": "f6ecbe03-2887-4c8a-8917-a36a632c800b"
      },
      "execution_count": 131,
      "outputs": [
        {
          "output_type": "execute_result",
          "data": {
            "text/plain": [
              "array([[5, 2, 3, 0, 4],\n",
              "       [5, 6, 0, 7, 2],\n",
              "       [1, 4, 3, 8, 2],\n",
              "       [0, 6, 2, 4, 4],\n",
              "       [0, 5, 2, 8, 5],\n",
              "       [9, 1, 2, 4, 4]])"
            ]
          },
          "metadata": {},
          "execution_count": 131
        }
      ]
    },
    {
      "cell_type": "code",
      "source": [
        "T3 = np.reshape(data, (2, 3, 5)) # 3D array\n",
        "\n",
        "T3"
      ],
      "metadata": {
        "id": "YuAP643dJcUw",
        "colab": {
          "base_uri": "https://localhost:8080/"
        },
        "outputId": "c75d6c11-47f8-4f0f-9d98-a1072d7741a5"
      },
      "execution_count": 132,
      "outputs": [
        {
          "output_type": "execute_result",
          "data": {
            "text/plain": [
              "array([[[5, 2, 3, 0, 4],\n",
              "        [5, 6, 0, 7, 2],\n",
              "        [1, 4, 3, 8, 2]],\n",
              "\n",
              "       [[0, 6, 2, 4, 4],\n",
              "        [0, 5, 2, 8, 5],\n",
              "        [9, 1, 2, 4, 4]]])"
            ]
          },
          "metadata": {},
          "execution_count": 132
        }
      ]
    },
    {
      "cell_type": "code",
      "source": [
        "print('T3 is a ', T3.ndim, 'dimensional array of shape ', T3.shape)\n",
        "print('T2 is a ', T2.ndim, 'dimensional array of shape ', T2.shape)\n",
        "print('data is a ', data.ndim, 'dimensional array of shape ', data.shape)"
      ],
      "metadata": {
        "id": "DHTQvpinJfOZ",
        "colab": {
          "base_uri": "https://localhost:8080/"
        },
        "outputId": "efc1a190-79c5-4988-f991-d265f301e3be"
      },
      "execution_count": 133,
      "outputs": [
        {
          "output_type": "stream",
          "name": "stdout",
          "text": [
            "T3 is a  3 dimensional array of shape  (2, 3, 5)\n",
            "T2 is a  2 dimensional array of shape  (6, 5)\n",
            "data is a  1 dimensional array of shape  (30,)\n"
          ]
        }
      ]
    }
  ]
}