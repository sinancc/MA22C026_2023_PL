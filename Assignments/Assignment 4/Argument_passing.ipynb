{
  "nbformat": 4,
  "nbformat_minor": 0,
  "metadata": {
    "colab": {
      "provenance": [],
      "authorship_tag": "ABX9TyMulVDR3Ze6FHd0EYCQhgT7",
      "include_colab_link": true
    },
    "kernelspec": {
      "name": "python3",
      "display_name": "Python 3"
    },
    "language_info": {
      "name": "python"
    }
  },
  "cells": [
    {
      "cell_type": "markdown",
      "metadata": {
        "id": "view-in-github",
        "colab_type": "text"
      },
      "source": [
        "<a href=\"https://colab.research.google.com/github/sinancc/MA22C026_2023_PL/blob/main/Assignments/Assignment%204/Argument_passing.ipynb\" target=\"_parent\"><img src=\"https://colab.research.google.com/assets/colab-badge.svg\" alt=\"Open In Colab\"/></a>"
      ]
    },
    {
      "cell_type": "code",
      "execution_count": 24,
      "metadata": {
        "id": "aHKQMDqyW7vG"
      },
      "outputs": [],
      "source": [
        "def twice(w):\n",
        "  w*=2\n",
        "  print(w)\n",
        "#defining twice funtion"
      ]
    },
    {
      "cell_type": "code",
      "source": [
        "v = [2,5,1]\n",
        "twice(v)\n",
        "print(v)\n",
        "#in normal lists twice function makes copy of elements in list\n",
        "#v is set as twice(v)"
      ],
      "metadata": {
        "colab": {
          "base_uri": "https://localhost:8080/"
        },
        "id": "lnnDz4TpXCZg",
        "outputId": "de748e9f-c362-4e66-f5c4-3fd8e44872e4"
      },
      "execution_count": 45,
      "outputs": [
        {
          "output_type": "stream",
          "name": "stdout",
          "text": [
            "[2, 5, 1, 2, 5, 1]\n",
            "[2, 5, 1, 2, 5, 1]\n"
          ]
        }
      ]
    },
    {
      "cell_type": "code",
      "source": [
        "import numpy as np"
      ],
      "metadata": {
        "id": "o2EtLYipXseJ"
      },
      "execution_count": 37,
      "outputs": []
    },
    {
      "cell_type": "code",
      "source": [
        "y=[2,5,1]"
      ],
      "metadata": {
        "id": "_daDXTNqPodN"
      },
      "execution_count": 38,
      "outputs": []
    },
    {
      "cell_type": "code",
      "source": [
        "arr = np.array(y)\n",
        "arr\n",
        "twice(arr)\n",
        "print(arr)\n",
        "#in numpy arrays twice function doubles each entry\n",
        "#array is set as twice(arr)"
      ],
      "metadata": {
        "colab": {
          "base_uri": "https://localhost:8080/"
        },
        "id": "_tKwd3NLXDtT",
        "outputId": "dc7614a3-2568-4d7d-f7f4-2d00ce7a10a5"
      },
      "execution_count": 44,
      "outputs": [
        {
          "output_type": "stream",
          "name": "stdout",
          "text": [
            "[ 4 10  2]\n",
            "[ 4 10  2]\n"
          ]
        }
      ]
    },
    {
      "cell_type": "code",
      "source": [
        "s=\"sinan\"\n",
        "twice(s)\n",
        "#strings twice\n",
        "print(s)\n",
        "#string is same ,since string is immutable"
      ],
      "metadata": {
        "colab": {
          "base_uri": "https://localhost:8080/"
        },
        "id": "Vb-LfG7wXqVz",
        "outputId": "54a8de07-1b39-4c86-f912-2c4713257646"
      },
      "execution_count": 43,
      "outputs": [
        {
          "output_type": "stream",
          "name": "stdout",
          "text": [
            "sinansinan\n",
            "sinan\n"
          ]
        }
      ]
    }
  ]
}