{
  "nbformat": 4,
  "nbformat_minor": 0,
  "metadata": {
    "colab": {
      "provenance": [],
      "authorship_tag": "ABX9TyNSC5Zvha9SR779t0s8+HVQ",
      "include_colab_link": true
    },
    "kernelspec": {
      "name": "python3",
      "display_name": "Python 3"
    },
    "language_info": {
      "name": "python"
    }
  },
  "cells": [
    {
      "cell_type": "markdown",
      "metadata": {
        "id": "view-in-github",
        "colab_type": "text"
      },
      "source": [
        "<a href=\"https://colab.research.google.com/github/sinancc/MA22C026_2023_PL/blob/main/Assignments/Assignment%204/fibonacci_primes.ipynb\" target=\"_parent\"><img src=\"https://colab.research.google.com/assets/colab-badge.svg\" alt=\"Open In Colab\"/></a>"
      ]
    },
    {
      "cell_type": "markdown",
      "source": [
        "# Generator Expressions"
      ],
      "metadata": {
        "id": "W5TvVuwX75aq"
      }
    },
    {
      "cell_type": "code",
      "execution_count": 115,
      "metadata": {
        "id": "heQk8YxGycat"
      },
      "outputs": [],
      "source": [
        "i=2; N=10\n",
        "L = [n**i for n in range(1, N)]\n",
        "#squares of 1 to 9"
      ]
    },
    {
      "cell_type": "code",
      "source": [
        "G= (n**i for n in range(1, N))\n"
      ],
      "metadata": {
        "id": "iEL3nSKZywtL"
      },
      "execution_count": 116,
      "outputs": []
    },
    {
      "cell_type": "code",
      "source": [
        "[l for l in L]"
      ],
      "metadata": {
        "colab": {
          "base_uri": "https://localhost:8080/"
        },
        "id": "Xa7lEbmxy9p_",
        "outputId": "46125e40-1ad0-46f4-e011-178811dc5081"
      },
      "execution_count": 117,
      "outputs": [
        {
          "output_type": "execute_result",
          "data": {
            "text/plain": [
              "[1, 4, 9, 16, 25, 36, 49, 64, 81]"
            ]
          },
          "metadata": {},
          "execution_count": 117
        }
      ]
    },
    {
      "cell_type": "code",
      "source": [
        "[g for g in G]"
      ],
      "metadata": {
        "colab": {
          "base_uri": "https://localhost:8080/"
        },
        "id": "HBYrXjuAzBsH",
        "outputId": "76027159-e020-486e-a3a4-4e4db7fe5d54"
      },
      "execution_count": 118,
      "outputs": [
        {
          "output_type": "execute_result",
          "data": {
            "text/plain": [
              "[1, 4, 9, 16, 25, 36, 49, 64, 81]"
            ]
          },
          "metadata": {},
          "execution_count": 118
        }
      ]
    },
    {
      "cell_type": "code",
      "source": [
        "[g for g in G]\n",
        "#no more elements in the sequence to compute"
      ],
      "metadata": {
        "colab": {
          "base_uri": "https://localhost:8080/"
        },
        "id": "tbdxYcDDzGlD",
        "outputId": "9ba7f982-5c84-485f-9ee2-f9bc54b9272e"
      },
      "execution_count": 119,
      "outputs": [
        {
          "output_type": "execute_result",
          "data": {
            "text/plain": [
              "[]"
            ]
          },
          "metadata": {},
          "execution_count": 119
        }
      ]
    },
    {
      "cell_type": "markdown",
      "source": [
        "# Generator Functions"
      ],
      "metadata": {
        "id": "63f4u2T88s_p"
      }
    },
    {
      "cell_type": "code",
      "source": [
        "def GG():\n",
        "  for n in range(1, N):\n",
        "    yield n**i\n"
      ],
      "metadata": {
        "id": "AhZ-VQIFzLoG"
      },
      "execution_count": 120,
      "outputs": []
    },
    {
      "cell_type": "code",
      "source": [
        "G2 = GG()\n",
        "print(*G2) # see that you get the same values as before"
      ],
      "metadata": {
        "colab": {
          "base_uri": "https://localhost:8080/"
        },
        "id": "7l1BBcYozSp6",
        "outputId": "a374f29e-0e4b-4599-eda4-0694f8643162"
      },
      "execution_count": 121,
      "outputs": [
        {
          "output_type": "stream",
          "name": "stdout",
          "text": [
            "1 4 9 16 25 36 49 64 81\n"
          ]
        }
      ]
    },
    {
      "cell_type": "code",
      "source": [
        "G2 = GG()\n",
        "# get the first 3 values of the sequence using next: next(G2), next(G2), next(G2)\n",
        "next(G2), next(G2), next(G2)"
      ],
      "metadata": {
        "id": "T9FGlin6zW8t",
        "colab": {
          "base_uri": "https://localhost:8080/"
        },
        "outputId": "25c8e81c-307b-4a72-c4b5-eb62d6d2eeff"
      },
      "execution_count": 122,
      "outputs": [
        {
          "output_type": "execute_result",
          "data": {
            "text/plain": [
              "(1, 4, 9)"
            ]
          },
          "metadata": {},
          "execution_count": 122
        }
      ]
    },
    {
      "cell_type": "code",
      "source": [
        "print(*G2) # print the remaining values of the sequence"
      ],
      "metadata": {
        "colab": {
          "base_uri": "https://localhost:8080/"
        },
        "id": "xJGqRvj4BB9z",
        "outputId": "95e9acf7-81cc-4b5e-cffe-72e522d1b046"
      },
      "execution_count": 123,
      "outputs": [
        {
          "output_type": "stream",
          "name": "stdout",
          "text": [
            "16 25 36 49 64 81\n"
          ]
        }
      ]
    },
    {
      "cell_type": "markdown",
      "source": [
        "# Generators vs Lists"
      ],
      "metadata": {
        "id": "ydtDzr3O_HFl"
      }
    },
    {
      "cell_type": "code",
      "source": [
        "i = -20\n",
        "N = 10**8"
      ],
      "metadata": {
        "id": "-kt22DBYBC07"
      },
      "execution_count": 124,
      "outputs": []
    },
    {
      "cell_type": "code",
      "source": [
        "!pip install memory_profiler"
      ],
      "metadata": {
        "colab": {
          "base_uri": "https://localhost:8080/"
        },
        "id": "x0Y4exkBJW5P",
        "outputId": "ec838a85-1703-4ea6-f637-524adc4f57e7"
      },
      "execution_count": 125,
      "outputs": [
        {
          "output_type": "stream",
          "name": "stdout",
          "text": [
            "Requirement already satisfied: memory_profiler in /usr/local/lib/python3.10/dist-packages (0.61.0)\n",
            "Requirement already satisfied: psutil in /usr/local/lib/python3.10/dist-packages (from memory_profiler) (5.9.5)\n"
          ]
        }
      ]
    },
    {
      "cell_type": "code",
      "source": [
        "%load_ext memory_profiler\n",
        "#loading package for measuring memory"
      ],
      "metadata": {
        "id": "Kt2YhK1SBI6R",
        "colab": {
          "base_uri": "https://localhost:8080/"
        },
        "outputId": "a87107f7-b4e1-4f07-f15d-729c9f4b4f44"
      },
      "execution_count": 126,
      "outputs": [
        {
          "output_type": "stream",
          "name": "stdout",
          "text": [
            "The memory_profiler extension is already loaded. To reload it, use:\n",
            "  %reload_ext memory_profiler\n"
          ]
        }
      ]
    },
    {
      "cell_type": "code",
      "source": [
        "%memit sum([n**i for n in range(1, N)])\n",
        "#measures memory usage"
      ],
      "metadata": {
        "colab": {
          "base_uri": "https://localhost:8080/"
        },
        "id": "2tykjRxnBObv",
        "outputId": "a019cea9-d962-430d-b4aa-2100a8ae8d03"
      },
      "execution_count": 127,
      "outputs": [
        {
          "output_type": "stream",
          "name": "stdout",
          "text": [
            "peak memory: 3939.86 MiB, increment: 3740.80 MiB\n"
          ]
        }
      ]
    },
    {
      "cell_type": "code",
      "source": [
        "G3 = (n**i for n in range(1, N))\n",
        "s = 0\n",
        "for g in G3:\n",
        "  s += g #s=s+g\n",
        "  if g < 1e-15:\n",
        "    break\n",
        "print(s)\n",
        "#finding sum with i = -20 & N = 10**8"
      ],
      "metadata": {
        "colab": {
          "base_uri": "https://localhost:8080/"
        },
        "id": "ovyEasvvJUc7",
        "outputId": "e000728e-9c7f-449d-e690-3b33aa616c3a"
      },
      "execution_count": 128,
      "outputs": [
        {
          "output_type": "stream",
          "name": "stdout",
          "text": [
            "1.0000009539620338\n"
          ]
        }
      ]
    },
    {
      "cell_type": "markdown",
      "source": [
        "#Infinite Sequences"
      ],
      "metadata": {
        "id": "-OeJKD5zAouh"
      }
    },
    {
      "cell_type": "code",
      "source": [
        "def natural_numbers():\n",
        "  n = 0\n",
        "  while True:\n",
        "    yield n\n",
        "    n += 1\n",
        "#Defining natural numbers as a infinite sequence"
      ],
      "metadata": {
        "id": "KmfkvI1IJ6ij"
      },
      "execution_count": 129,
      "outputs": []
    },
    {
      "cell_type": "code",
      "source": [
        "for n in natural_numbers():\n",
        "  print(n)\n",
        "  if n >= 5:\n",
        "    break # don't go into infinite loop!\n",
        "#0:5"
      ],
      "metadata": {
        "colab": {
          "base_uri": "https://localhost:8080/"
        },
        "id": "gUDrMtCvKFQ6",
        "outputId": "e886a047-8c70-4703-aa6a-67128dd8a569"
      },
      "execution_count": 130,
      "outputs": [
        {
          "output_type": "stream",
          "name": "stdout",
          "text": [
            "0\n",
            "1\n",
            "2\n",
            "3\n",
            "4\n",
            "5\n"
          ]
        }
      ]
    },
    {
      "cell_type": "code",
      "source": [
        "def fibonacci(max):\n",
        "  f, fnext = 0, 1\n",
        "  while f < max:\n",
        "    yield f\n",
        "    f, fnext = fnext, f + fnext\n",
        "#fibonacci sequence with highest less than max"
      ],
      "metadata": {
        "id": "zmwR7QaUKNtE"
      },
      "execution_count": 131,
      "outputs": []
    },
    {
      "cell_type": "code",
      "source": [
        "Fn = fibonacci(10000)\n",
        "print(*Fn)\n",
        "#fib seq till 10000"
      ],
      "metadata": {
        "colab": {
          "base_uri": "https://localhost:8080/"
        },
        "id": "w_r12xSzKXjx",
        "outputId": "4cd4bd22-0ced-4ad5-d1a8-2155dd53c4b0"
      },
      "execution_count": 132,
      "outputs": [
        {
          "output_type": "stream",
          "name": "stdout",
          "text": [
            "0 1 1 2 3 5 8 13 21 34 55 89 144 233 377 610 987 1597 2584 4181 6765\n"
          ]
        }
      ]
    },
    {
      "cell_type": "markdown",
      "source": [
        "#Prime Number generator"
      ],
      "metadata": {
        "id": "_M8Q5sKSBveS"
      }
    },
    {
      "cell_type": "code",
      "source": [
        "P = [2, 3]"
      ],
      "metadata": {
        "id": "dESyZUWLKboM"
      },
      "execution_count": 133,
      "outputs": []
    },
    {
      "cell_type": "code",
      "source": [
        "[4 % p for p in P]\n",
        "#remainders on diving 4 by elements of p"
      ],
      "metadata": {
        "colab": {
          "base_uri": "https://localhost:8080/"
        },
        "id": "zvDRooWtKgVY",
        "outputId": "6cbb56e4-d4a6-462d-bb15-e4efbf717eee"
      },
      "execution_count": 134,
      "outputs": [
        {
          "output_type": "execute_result",
          "data": {
            "text/plain": [
              "[0, 1]"
            ]
          },
          "metadata": {},
          "execution_count": 134
        }
      ]
    },
    {
      "cell_type": "code",
      "source": [
        "all([4 % p for p in P])\n",
        "#checking primality"
      ],
      "metadata": {
        "colab": {
          "base_uri": "https://localhost:8080/"
        },
        "id": "4hqWFhaPKiJy",
        "outputId": "c60f6aa6-926c-442c-eaa5-78b42461040b"
      },
      "execution_count": 135,
      "outputs": [
        {
          "output_type": "execute_result",
          "data": {
            "text/plain": [
              "False"
            ]
          },
          "metadata": {},
          "execution_count": 135
        }
      ]
    },
    {
      "cell_type": "code",
      "source": [
        "all([5 % p for p in P])\n",
        "#as 5 is prime"
      ],
      "metadata": {
        "colab": {
          "base_uri": "https://localhost:8080/"
        },
        "id": "rY4KnyUgKkJH",
        "outputId": "4eaeb173-bc41-4aa9-9ac0-78d8f0e2c334"
      },
      "execution_count": 136,
      "outputs": [
        {
          "output_type": "execute_result",
          "data": {
            "text/plain": [
              "True"
            ]
          },
          "metadata": {},
          "execution_count": 136
        }
      ]
    },
    {
      "cell_type": "code",
      "source": [
        "def prime_numbers(N):\n",
        "  primes = [] # empty\n",
        "  q = 1\n",
        "  for n in range(q+1, N):\n",
        "    if all(n % p > 0 for p in primes): #prime condition\n",
        "      primes.append(n) #adding to primes set\n",
        "      q = n\n",
        "      yield n"
      ],
      "metadata": {
        "id": "HeQEVxHoKmkj"
      },
      "execution_count": 137,
      "outputs": []
    },
    {
      "cell_type": "code",
      "source": [
        "list(prime_numbers(70))"
      ],
      "metadata": {
        "colab": {
          "base_uri": "https://localhost:8080/"
        },
        "id": "XQaFCcZOKwEe",
        "outputId": "2609c8b4-480a-4b31-8314-e2150166b692"
      },
      "execution_count": 138,
      "outputs": [
        {
          "output_type": "execute_result",
          "data": {
            "text/plain": [
              "[2, 3, 5, 7, 11, 13, 17, 19, 23, 29, 31, 37, 41, 43, 47, 53, 59, 61, 67]"
            ]
          },
          "metadata": {},
          "execution_count": 138
        }
      ]
    },
    {
      "cell_type": "code",
      "source": [
        "def fibonacci_primes(N):\n",
        "  F = set(fibonacci(N)) #fib till N\n",
        "  P = set(prime_numbers(N)) #primes till N\n",
        "  print('Intersecting', len(P), 'primes with', len(F), 'fibonaccis.')\n",
        "  return P.intersection(F) #intersections of primes and fib\n",
        "fibonacci_primes(100000)"
      ],
      "metadata": {
        "colab": {
          "base_uri": "https://localhost:8080/"
        },
        "id": "jNjOYv_EK1kD",
        "outputId": "a49db0ce-56e9-4247-8e80-2d43c14d0421"
      },
      "execution_count": 139,
      "outputs": [
        {
          "output_type": "stream",
          "name": "stdout",
          "text": [
            "Intersecting 9592 primes with 25 fibonaccis.\n"
          ]
        },
        {
          "output_type": "execute_result",
          "data": {
            "text/plain": [
              "{2, 3, 5, 13, 89, 233, 1597, 28657}"
            ]
          },
          "metadata": {},
          "execution_count": 139
        }
      ]
    },
    {
      "cell_type": "markdown",
      "source": [
        "#verification"
      ],
      "metadata": {
        "id": "dwNrZ-CPIC1f"
      }
    },
    {
      "cell_type": "code",
      "source": [
        "nFP = [3, 4, 5, 7, 11, 13, 17, 23, 29, 43]\n"
      ],
      "metadata": {
        "id": "KhDSKX0LK8rh"
      },
      "execution_count": 140,
      "outputs": []
    },
    {
      "cell_type": "code",
      "source": [
        "def test_fibonacci_prime():\n",
        "  N = 10000\n",
        "  F = list(fibonacci(N)) #fib till N\n",
        "  nFP = [3, 4, 5, 7, 11, 13, 17, 23, 29, 43]\n",
        "  our_list = fibonacci_primes(N)\n",
        "  known_list = set([F[n] for n in nFP if n < len(F)])\n",
        "  assert len(known_list.difference(our_list))==0, 'We have a bug!'\n",
        "  print('Passed test!')"
      ],
      "metadata": {
        "id": "uB24Fxx6LCeS"
      },
      "execution_count": 141,
      "outputs": []
    },
    {
      "cell_type": "code",
      "source": [
        "test_fibonacci_prime()"
      ],
      "metadata": {
        "colab": {
          "base_uri": "https://localhost:8080/"
        },
        "id": "cgYSNUaNLTc-",
        "outputId": "47ca21ee-d848-47f1-a4a9-e82fb4397786"
      },
      "execution_count": 142,
      "outputs": [
        {
          "output_type": "stream",
          "name": "stdout",
          "text": [
            "Intersecting 1229 primes with 20 fibonaccis.\n",
            "Passed test!\n"
          ]
        }
      ]
    },
    {
      "cell_type": "code",
      "source": [
        "!pip install pytest\n",
        "#installing module"
      ],
      "metadata": {
        "colab": {
          "base_uri": "https://localhost:8080/"
        },
        "id": "pV1gW8sFxuYu",
        "outputId": "0a33487d-f809-4ba8-e063-b2e3c4c65dc2"
      },
      "execution_count": 144,
      "outputs": [
        {
          "output_type": "stream",
          "name": "stdout",
          "text": [
            "Requirement already satisfied: pytest in /usr/local/lib/python3.10/dist-packages (7.4.0)\n",
            "Requirement already satisfied: iniconfig in /usr/local/lib/python3.10/dist-packages (from pytest) (2.0.0)\n",
            "Requirement already satisfied: packaging in /usr/local/lib/python3.10/dist-packages (from pytest) (23.1)\n",
            "Requirement already satisfied: pluggy<2.0,>=0.12 in /usr/local/lib/python3.10/dist-packages (from pytest) (1.2.0)\n",
            "Requirement already satisfied: exceptiongroup>=1.0.0rc8 in /usr/local/lib/python3.10/dist-packages (from pytest) (1.1.3)\n",
            "Requirement already satisfied: tomli>=1.0.0 in /usr/local/lib/python3.10/dist-packages (from pytest) (2.0.1)\n"
          ]
        }
      ]
    },
    {
      "cell_type": "code",
      "source": [
        "!pytest /content/pyfiles/fibonacci_primes\n",
        "#we have already added folder"
      ],
      "metadata": {
        "colab": {
          "base_uri": "https://localhost:8080/"
        },
        "id": "W1ZBpqamLZFf",
        "outputId": "89793801-705f-46bf-c057-7f383b01ae73"
      },
      "execution_count": 145,
      "outputs": [
        {
          "output_type": "stream",
          "name": "stdout",
          "text": [
            "\u001b[1m============================= test session starts ==============================\u001b[0m\n",
            "platform linux -- Python 3.10.12, pytest-7.4.0, pluggy-1.2.0\n",
            "rootdir: /content\n",
            "plugins: anyio-3.7.1\n",
            "\u001b[1mcollecting ... \u001b[0m\u001b[1m\rcollected 1 item                                                               \u001b[0m\n",
            "\n",
            "pyfiles/fibonacci_primes/test_fibonacci_primes.py \u001b[32m.\u001b[0m\u001b[32m                      [100%]\u001b[0m\n",
            "\n",
            "\u001b[32m============================== \u001b[32m\u001b[1m1 passed\u001b[0m\u001b[32m in 0.08s\u001b[0m\u001b[32m ===============================\u001b[0m\n"
          ]
        }
      ]
    },
    {
      "cell_type": "code",
      "source": [
        "!apt-get update\n",
        "!apt-get install -y primesieve\n",
        "!apt-get install -y libprimesieve-dev\n",
        "#prerequisites for primesieve"
      ],
      "metadata": {
        "colab": {
          "base_uri": "https://localhost:8080/"
        },
        "id": "F5XOQqqwSHco",
        "outputId": "d2e9bff2-41b5-460d-97a2-1ebe62f5e976"
      },
      "execution_count": 146,
      "outputs": [
        {
          "output_type": "stream",
          "name": "stdout",
          "text": [
            "\r0% [Working]\r            \rHit:1 http://archive.ubuntu.com/ubuntu jammy InRelease\n",
            "\r0% [Connecting to security.ubuntu.com (91.189.91.81)] [Connected to cloud.r-pro\r                                                                               \rGet:2 http://archive.ubuntu.com/ubuntu jammy-updates InRelease [119 kB]\n",
            "\r0% [2 InRelease 15.6 kB/119 kB 13%] [Connecting to security.ubuntu.com (91.189.\r                                                                               \rGet:3 https://cloud.r-project.org/bin/linux/ubuntu jammy-cran40/ InRelease [3,626 B]\n",
            "\r0% [2 InRelease 103 kB/119 kB 86%] [Connecting to security.ubuntu.com (91.189.9\r0% [2 InRelease 104 kB/119 kB 88%] [Connecting to security.ubuntu.com (91.189.9\r0% [Connecting to security.ubuntu.com (91.189.91.81)] [Connected to ppa.launchp\r                                                                               \rGet:4 http://archive.ubuntu.com/ubuntu jammy-backports InRelease [109 kB]\n",
            "\r0% [4 InRelease 11.5 kB/109 kB 11%] [Waiting for headers] [Waiting for headers]\r                                                                               \rHit:5 https://ppa.launchpadcontent.net/c2d4u.team/c2d4u4.0+/ubuntu jammy InRelease\n",
            "Hit:6 https://developer.download.nvidia.com/compute/cuda/repos/ubuntu2204/x86_64  InRelease\n",
            "Hit:7 https://ppa.launchpadcontent.net/deadsnakes/ppa/ubuntu jammy InRelease\n",
            "Get:8 http://security.ubuntu.com/ubuntu jammy-security InRelease [110 kB]\n",
            "Hit:9 https://ppa.launchpadcontent.net/graphics-drivers/ppa/ubuntu jammy InRelease\n",
            "Hit:10 https://ppa.launchpadcontent.net/ubuntugis/ppa/ubuntu jammy InRelease\n",
            "Fetched 341 kB in 1s (278 kB/s)\n",
            "Reading package lists... Done\n",
            "Reading package lists... Done\n",
            "Building dependency tree... Done\n",
            "Reading state information... Done\n",
            "primesieve is already the newest version (7.8+ds-1).\n",
            "0 upgraded, 0 newly installed, 0 to remove and 16 not upgraded.\n",
            "Reading package lists... Done\n",
            "Building dependency tree... Done\n",
            "Reading state information... Done\n",
            "libprimesieve-dev is already the newest version (7.8+ds-1).\n",
            "0 upgraded, 0 newly installed, 0 to remove and 16 not upgraded.\n"
          ]
        }
      ]
    },
    {
      "cell_type": "code",
      "source": [
        "\n",
        "!pip install primesieve"
      ],
      "metadata": {
        "colab": {
          "base_uri": "https://localhost:8080/"
        },
        "id": "Uy3SxLZ-FwGl",
        "outputId": "b8da1aca-3db6-4037-e2bf-0df9c14e650f"
      },
      "execution_count": 147,
      "outputs": [
        {
          "output_type": "stream",
          "name": "stdout",
          "text": [
            "Requirement already satisfied: primesieve in /usr/local/lib/python3.10/dist-packages (2.3.2)\n"
          ]
        }
      ]
    },
    {
      "cell_type": "code",
      "source": [
        "from primesieve import primes # do after you have installed primesieve\n",
        "list(primes(70))\n"
      ],
      "metadata": {
        "colab": {
          "base_uri": "https://localhost:8080/"
        },
        "id": "s2JEVD4yLdEi",
        "outputId": "10a55ca3-878a-4fd0-8332-aebfac002eca"
      },
      "execution_count": 148,
      "outputs": [
        {
          "output_type": "execute_result",
          "data": {
            "text/plain": [
              "[2, 3, 5, 7, 11, 13, 17, 19, 23, 29, 31, 37, 41, 43, 47, 53, 59, 61, 67]"
            ]
          },
          "metadata": {},
          "execution_count": 148
        }
      ]
    },
    {
      "cell_type": "code",
      "source": [
        "%timeit list(prime_numbers(1000))"
      ],
      "metadata": {
        "colab": {
          "base_uri": "https://localhost:8080/"
        },
        "id": "yhSHIRVuJF5U",
        "outputId": "b211f7b0-d6d2-44ac-cb00-3a7e3898c012"
      },
      "execution_count": 149,
      "outputs": [
        {
          "output_type": "stream",
          "name": "stdout",
          "text": [
            "2.17 ms ± 630 µs per loop (mean ± std. dev. of 7 runs, 1000 loops each)\n"
          ]
        }
      ]
    },
    {
      "cell_type": "code",
      "source": [
        " %timeit primes(1000)"
      ],
      "metadata": {
        "id": "uvr9IXYBLkfL",
        "colab": {
          "base_uri": "https://localhost:8080/"
        },
        "outputId": "02bcb62e-1f95-469e-9ac5-ab0c01350e30"
      },
      "execution_count": 150,
      "outputs": [
        {
          "output_type": "stream",
          "name": "stdout",
          "text": [
            "2.72 µs ± 451 ns per loop (mean ± std. dev. of 7 runs, 100000 loops each)\n"
          ]
        }
      ]
    },
    {
      "cell_type": "markdown",
      "source": [
        "We can see that time taken for primes function is micro level ,whereas prime_numbers is of milli level.Which means primes fn is fast"
      ],
      "metadata": {
        "id": "ccMbUk1qJRtt"
      }
    },
    {
      "cell_type": "markdown",
      "source": [
        "# fibonacci amongst primes"
      ],
      "metadata": {
        "id": "cytfnSg1J0ZH"
      }
    },
    {
      "cell_type": "code",
      "source": [
        "import primesieve, math\n",
        "def is_square(n):\n",
        "  s = int(math.sqrt(n))\n",
        "  return s*s == n\n",
        "it = primesieve.Iterator()\n",
        "it.skipto(2**28-1)\n",
        "p = it.next_prime()\n",
        "while p < 2**30-1:\n",
        "  if is_square(5*p*p+4) or is_square(5*p*p-4): #as fibonaccis are of form 5F^2+4 or 5F^2-4\n",
        "    print('¡¡ Got one !! ', p, 'is a Fibonacci prime!')\n",
        "  p = it.next_prime() #similar to i+=1"
      ],
      "metadata": {
        "colab": {
          "base_uri": "https://localhost:8080/"
        },
        "id": "D4sPy_ucyzSD",
        "outputId": "187e2bcd-40cb-4f0c-f06f-ae4ef6ba94da"
      },
      "execution_count": 151,
      "outputs": [
        {
          "output_type": "stream",
          "name": "stdout",
          "text": [
            "¡¡ Got one !!  433494437 is a Fibonacci prime!\n"
          ]
        }
      ]
    }
  ]
}