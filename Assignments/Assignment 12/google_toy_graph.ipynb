{
  "nbformat": 4,
  "nbformat_minor": 0,
  "metadata": {
    "colab": {
      "provenance": []
    },
    "kernelspec": {
      "name": "python3",
      "display_name": "Python 3"
    },
    "language_info": {
      "name": "python"
    }
  },
  "cells": [
    {
      "cell_type": "code",
      "execution_count": null,
      "metadata": {
        "id": "uqYq8XWDH3di"
      },
      "outputs": [],
      "source": [
        "import os\n",
        "import urllib\n",
        "import shutil\n",
        "import numpy as np\n",
        "import gzip"
      ]
    },
    {
      "cell_type": "code",
      "source": [
        "url = \"https://snap.stanford.edu/data/web-Google.txt.gz\"\n",
        "# file\n",
        "f= 'web-Google.txt.gz'\n",
        "\n",
        "if not os.path.exists(f):\n",
        "    r = urllib.request.urlopen(url)\n",
        "    with open(f, 'wb') as fo:\n",
        "        shutil.copyfileobj(r, fo)\n"
      ],
      "metadata": {
        "id": "0txLo7SEIE-0"
      },
      "execution_count": null,
      "outputs": []
    },
    {
      "cell_type": "code",
      "source": [
        "\n",
        "\n",
        "def load_Gdata(name):\n",
        "    graph = {}\n",
        "    try:\n",
        "        with gzip.open(name, 'rt') as file:\n",
        "            for line in file:\n",
        "                if line.startswith(\"#\"):\n",
        "                    continue\n",
        "                parts = line.strip().split()\n",
        "                if len(parts) < 2:\n",
        "                    print(f\"Skipping line with insufficient data: {line}\")\n",
        "                    continue\n",
        "                source, target = int(parts[0]), int(parts[1])\n",
        "                if source not in graph:\n",
        "                    graph[source] = []\n",
        "                graph[source].append(target)\n",
        "    except FileNotFoundError:\n",
        "        print(f\"File not found: {name}\")\n",
        "    except Exception as e:\n",
        "        print(f\"An error occurred while reading the file: {e}\")\n",
        "\n",
        "    return graph\n"
      ],
      "metadata": {
        "id": "OSUpMcYMHFjN"
      },
      "execution_count": null,
      "outputs": []
    },
    {
      "cell_type": "code",
      "source": [
        "\n",
        "graph = load_Gdata(f)"
      ],
      "metadata": {
        "id": "r_3gW9K5Mm7t"
      },
      "execution_count": null,
      "outputs": []
    },
    {
      "cell_type": "code",
      "source": [
        "# Initialize PageRank values for all vertices\n",
        "num_vertices = len(graph)\n",
        "pagerank = np.ones(num_vertices) / num_vertices"
      ],
      "metadata": {
        "id": "R3Kp8o4QNX2x"
      },
      "execution_count": 39,
      "outputs": []
    },
    {
      "cell_type": "code",
      "source": [
        "pagerank"
      ],
      "metadata": {
        "colab": {
          "base_uri": "https://localhost:8080/"
        },
        "id": "fUAo8Oe_RplG",
        "outputId": "38893638-fd94-409d-c97e-ef0cfaaf4e2b"
      },
      "execution_count": 40,
      "outputs": [
        {
          "output_type": "execute_result",
          "data": {
            "text/plain": [
              "array([1.35234917e-06, 1.35234917e-06, 1.35234917e-06, ...,\n",
              "       1.35234917e-06, 1.35234917e-06, 1.35234917e-06])"
            ]
          },
          "metadata": {},
          "execution_count": 40
        }
      ]
    },
    {
      "cell_type": "code",
      "source": [
        "def powerP(x, aPt, r=0.1, maxn=1000, tol=1e-10):\n",
        "    for n in range(maxn):\n",
        "        # Calculate (Pt)^n * x using the given aPt function\n",
        "        Ptx = aPt(x)\n",
        "\n",
        "        # Calculate the next iteration of x with the restart probability\n",
        "        next_x = (1 - r) * Ptx + r / len(x)\n",
        "\n",
        "        # Check for convergence\n",
        "        if np.linalg.norm(next_x - x) < tol:\n",
        "            return next_x\n",
        "\n",
        "        x = next_x\n",
        "\n",
        "    # Return the result after maxn iterations (may not have converged)\n",
        "    return x"
      ],
      "metadata": {
        "id": "nXk1K29_NaA9"
      },
      "execution_count": 48,
      "outputs": []
    }
  ]
}