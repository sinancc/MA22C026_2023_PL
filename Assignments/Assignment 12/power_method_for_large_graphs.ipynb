{
  "nbformat": 4,
  "nbformat_minor": 0,
  "metadata": {
    "colab": {
      "provenance": []
    },
    "kernelspec": {
      "name": "python3",
      "display_name": "Python 3"
    },
    "language_info": {
      "name": "python"
    }
  },
  "cells": [
    {
      "cell_type": "code",
      "source": [
        "import numpy as np\n",
        "\n",
        "N = 10\n",
        "p = 0.4\n",
        "\n",
        "\n",
        "def matrix(N):\n",
        "  P = np.zeros((N + 1, N + 1))\n",
        "  for i in range(N):\n",
        "      P[i, i + 1] = p  # Probability of winning a round\n",
        "      P[i, i - 1] = 1 - p  # Probability of losing a round\n",
        "  P[0, 0] = 1  # Staying at 0 when you're already at 0\n",
        "  P[N, N] = 1  # Staying at N when you're already at N\n",
        "  return P\n",
        "\n",
        "P=matrix(N)\n",
        "e_val, e_vec = np.linalg.eig(P.T)  # Transpose P for right e_vec\n",
        "\n",
        "# Find the eigenvector corresponding to eigenvalue 1\n",
        "stat_dbt = np.real(e_vec[:, np.argmax(np.abs(e_val))])\n",
        "\n",
        "# Normalize the stationary distribution so that it sums to 1\n",
        "stat_dbt /= np.sum(stat_dbt)\n",
        "\n",
        "print(stat_dbt)\n"
      ],
      "metadata": {
        "colab": {
          "base_uri": "https://localhost:8080/",
          "height": 0
        },
        "id": "otg-ldbYC92l",
        "outputId": "4f47a559-b103-4dd3-a764-9107e8cd0ad5"
      },
      "execution_count": 17,
      "outputs": [
        {
          "output_type": "stream",
          "name": "stdout",
          "text": [
            "[2.39999634e-01 9.59997070e-02 3.83995801e-02 1.53593040e-02\n",
            " 6.14283222e-03 2.45564682e-03 9.79780456e-04 3.87781128e-04\n",
            " 1.48227125e-04 4.78152158e-05 6.00079692e-01]\n"
          ]
        }
      ]
    },
    {
      "cell_type": "code",
      "source": [
        "\n",
        "r_val = [0.1, 0.01, 1e-3, 1e-4]\n",
        "\n",
        "# Create the transition matrix with restart probability\n",
        "def crt_trns_mat(N, p, r):\n",
        "    P = matrix(N)\n",
        "    # Add restart probability\n",
        "    P = (1 - r) * P + r / (N + 1)\n",
        "    return P\n",
        "\n",
        "for r in r_val:\n",
        "    # Create the transition matrix with restart probability\n",
        "    P = crt_trns_mat(N, p, r)\n",
        "\n",
        "    # Use the power method to compute PageRank\n",
        "    num_iter = 1000\n",
        "    init_page_rank = np.ones(N + 1) / (N + 1)  # Start with a uniform distribution\n",
        "\n",
        "    page_rank = init_page_rank\n",
        "    for _ in range(num_iter):\n",
        "        page_rank = np.dot(P.T, page_rank)\n",
        "\n",
        "    print(f\"PageRank with r = {r}:\")\n",
        "    print(page_rank)"
      ],
      "metadata": {
        "colab": {
          "base_uri": "https://localhost:8080/",
          "height": 0
        },
        "id": "AkdDGMF1DR56",
        "outputId": "396fc635-6fca-4d27-876c-05c8931b94d3"
      },
      "execution_count": 18,
      "outputs": [
        {
          "output_type": "stream",
          "name": "stdout",
          "text": [
            "PageRank with r = 0.1:\n",
            "[4.39778657e+74 2.00801960e+74 1.14082036e+74 8.23438956e+73\n",
            " 7.02336840e+73 6.47119797e+73 6.06203789e+73 5.52871551e+73\n",
            " 4.62650623e+73 2.99436315e+73 9.22449818e+74]\n",
            "PageRank with r = 0.01:\n",
            "[6.46777225e+90 2.62325926e+90 1.09940320e+90 4.94756734e+89\n",
            " 2.53776013e+89 1.55944577e+89 1.13235188e+89 8.96757040e+88\n",
            " 6.91752897e+88 4.22671927e+88 1.58665152e+91]\n",
            "PageRank with r = 0.001:\n",
            "[2.95829112e+92 1.18496831e+92 4.76280122e+91 1.93028956e+91\n",
            " 7.97646312e+90 3.43842296e+90 1.60535642e+90 8.40195669e+89\n",
            " 4.79996446e+89 2.45262857e+89 7.38251179e+92]\n",
            "PageRank with r = 0.0001:\n",
            "[4.33639409e+92 1.73479740e+92 6.94250198e+91 2.78060546e+91\n",
            " 1.11584107e+91 4.49728490e+90 1.82859873e+90 7.53748415e+89\n",
            " 3.11387909e+89 1.13690681e+89 1.08403549e+93]\n"
          ]
        }
      ]
    },
    {
      "cell_type": "code",
      "source": [
        "\n",
        "N = 1000\n",
        "p = 0.4\n",
        "r = 0.1\n",
        "\n",
        "# Create the transition matrix with restart probability\n",
        "def crt_trns_mat(N, p, r):\n",
        "    P =matrix(N)\n",
        "    # Add restart probability\n",
        "    P = (1 - r) * P + r / (N + 1)\n",
        "    return P\n",
        "\n",
        "# Create the transition matrix\n",
        "P = crt_trns_mat(N, p, r)\n",
        "\n",
        "# Compute the stationary distribution using eig\n",
        "e_val, e_vec = np.linalg.eig(P.T)\n",
        "stat_dbt = np.real(e_vec[:, np.argmax(np.abs(e_val))])\n",
        "stat_dbt /= np.sum(stat_dbt)\n",
        "\n",
        "print(\"PageRank for N = 1000 and r = 0.1:\")\n",
        "print(stat_dbt)"
      ],
      "metadata": {
        "colab": {
          "base_uri": "https://localhost:8080/",
          "height": 0
        },
        "id": "GKzE0uUfDZeq",
        "outputId": "725539f7-d0b6-4407-9a3a-3c580c9cb14e"
      },
      "execution_count": 19,
      "outputs": [
        {
          "output_type": "stream",
          "name": "stdout",
          "text": [
            "PageRank for N = 1000 and r = 0.1:\n",
            "[1.30500936e-01 5.23659967e-02 2.11781301e-02 ... 2.94724296e-04\n",
            " 1.84348912e-04 3.24840181e-01]\n"
          ]
        }
      ]
    },
    {
      "cell_type": "code",
      "source": [
        "\n",
        "from scipy.sparse import coo_matrix\n",
        "\n",
        "def powerP(x, aPt, r=0.1, maxn=1000, tol=1e-10):\n",
        "    for n in range(maxn):\n",
        "        # Calculate (Pt)^n * x using the given aPt function\n",
        "        Ptx = aPt(x)\n",
        "\n",
        "        # Calculate the next iteration of x with the restart probability\n",
        "        next_x = (1 - r) * Ptx + r / len(x)\n",
        "\n",
        "        # Check for convergence\n",
        "        if np.linalg.norm(next_x - x) < tol:\n",
        "            return next_x\n",
        "\n",
        "        x = next_x\n",
        "\n",
        "    # Return the result after maxn iterations (may not have converged)\n",
        "    return x\n",
        "\n",
        "# Parameters\n",
        "N = 100000\n",
        "p = 0.4\n",
        "r = 0.1\n",
        "\n",
        "# Create the transition matrix with restart probability (sparse matrix)\n",
        "data = []\n",
        "row_ind = []\n",
        "col_ind = []\n",
        "\n",
        "# Handle the boundary cases separately to avoid negative column indices\n",
        "data.extend([1 - r, p])\n",
        "row_ind.extend([0, 0])\n",
        "col_ind.extend([0, 1])\n",
        "\n",
        "for i in range(1, N):\n",
        "    data.extend([p, 1 - p, 1 - r, r])\n",
        "    row_ind.extend([i, i, i, i])\n",
        "    col_ind.extend([i + 1, i - 1, i, i])\n",
        "\n",
        "data.extend([1 - p, 1 - r])\n",
        "row_ind.extend([N, N])\n",
        "col_ind.extend([N - 1, N])\n",
        "\n",
        "shape = (N + 1, N + 1)\n",
        "\n",
        "P_sparse = coo_matrix((data, (row_ind, col_ind)), shape=shape)\n",
        "\n",
        "# Initial probability distribution (start with a random distribution)\n",
        "initial_distribution = np.random.rand(N + 1)\n",
        "initial_distribution /= np.sum(initial_distribution)\n",
        "\n",
        "# Define a function for applying Pt to a vector (sparse matrix multiplication)\n",
        "def apply_Pt(x):\n",
        "    return P_sparse.T.dot(x)\n",
        "\n",
        "# Compute the PageRank using the powerP function\n",
        "page_rank = powerP(initial_distribution, apply_Pt, r=r)\n",
        "\n",
        "print(\"PageRank for r = 0.1, N = 100000:\")\n",
        "print(page_rank)\n"
      ],
      "metadata": {
        "colab": {
          "base_uri": "https://localhost:8080/",
          "height": 0
        },
        "id": "K422Xx5A5C7f",
        "outputId": "2f5a8004-584b-4dad-f2ff-54be346e250d"
      },
      "execution_count": 8,
      "outputs": [
        {
          "output_type": "stream",
          "name": "stdout",
          "text": [
            "PageRank for r = 0.1, N = 100000:\n",
            "[5.44845133e+249 9.98941636e+249 1.30178778e+250 ... 6.46435488e+243\n",
            " 3.42839665e+243 1.27326487e+243]\n"
          ]
        }
      ]
    }
  ]
}