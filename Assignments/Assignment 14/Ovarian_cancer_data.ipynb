{
  "nbformat": 4,
  "nbformat_minor": 0,
  "metadata": {
    "colab": {
      "provenance": []
    },
    "kernelspec": {
      "name": "python3",
      "display_name": "Python 3"
    },
    "language_info": {
      "name": "python"
    }
  },
  "cells": [
    {
      "cell_type": "code",
      "source": [
        "import requests\n",
        "import zipfile\n",
        "import os\n",
        "import numpy as np\n",
        "import matplotlib.pyplot as plt\n",
        "from mpl_toolkits.mplot3d import Axes3D"
      ],
      "metadata": {
        "id": "1JVtFNavPi31"
      },
      "execution_count": 5,
      "outputs": []
    },
    {
      "cell_type": "code",
      "source": [
        "\n",
        "\n",
        "# 1. Download and extract the data from the ZIP file\n",
        "url = 'https://home.ccr.cancer.gov/ncifdaproteomics/OvarianCD_PostQAQC.zip'\n",
        "download_path = 'OvarianCD_PostQAQC.zip'\n",
        "extract_path = 'data'\n",
        "\n",
        "# Download the ZIP file\n",
        "response = requests.get(url)\n",
        "with open(download_path, 'wb') as file:\n",
        "    file.write(response.content)\n",
        "\n",
        "# Extract the ZIP file\n",
        "with zipfile.ZipFile(download_path, 'r') as zip_ref:\n",
        "    zip_ref.extractall(extract_path)"
      ],
      "metadata": {
        "id": "3Rhi6JGiPk6X"
      },
      "execution_count": 6,
      "outputs": []
    },
    {
      "cell_type": "code",
      "source": [
        "# Specify the file path\n",
        "file_path = '/content/data/OvarianCD_PostQAQC/Cancer/daf-0601.txt'  # Replace 'example.txt' with your file's path\n",
        "\n",
        "# Open the file in read mode ('r')\n",
        "with open(file_path, 'r') as file:\n",
        "    # Read the entire content of the file into a string\n",
        "    file_contents = file.read()\n",
        "\n",
        "# Print the contents of the file\n",
        "x=file_contents\n"
      ],
      "metadata": {
        "id": "yEJqNKdJ7cyy"
      },
      "execution_count": 11,
      "outputs": []
    }
  ]
}